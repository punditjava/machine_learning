{
 "cells": [
  {
   "cell_type": "markdown",
   "metadata": {},
   "source": [
    "## Машинное обучение, ВМК МГУ\n",
    "\n",
    "## Практическое задание 2\n",
    "\n",
    "### Общая информация\n",
    "Дата выдачи: 7 октября 2020\n",
    "\n",
    "Максимальная оценка: 10 баллов + 1 бонусный балл\n",
    "\n",
    "Мягкий дедлайн: 23:59MSK 20 октября\n",
    "\n",
    "Жесткий дедлайн: 23:59MSK 27 октября."
   ]
  },
  {
   "cell_type": "markdown",
   "metadata": {},
   "source": [
    "### О задании\n",
    "\n",
    "В этом задании вы:\n",
    "- Познакомитесь с методом решения задачи регрессии на основе метода ближайших соседей.\n",
    "- Реализуете алгоритм kNN для задачи регрессии.\n",
    "- Изучите методы работы с категориальными и текстовыми переменными.\n",
    "\n",
    "\n",
    "### Оценивание и штрафы\n",
    "Каждая из задач имеет определенную «стоимость» (указана в скобках около задачи). Максимально допустимая оценка за работу — 10 баллов.\n",
    "\n",
    "Сдавать задание после указанного срока сдачи нельзя. При выставлении неполного балла за задание в связи с наличием ошибок на усмотрение проверяющего предусмотрена возможность исправить работу на указанных в ответном письме условиях.\n",
    "\n",
    "Задание выполняется самостоятельно. «Похожие» решения считаются плагиатом и все задействованные студенты (в том числе те, у кого списали) не могут получить за него больше 0 баллов (подробнее о плагиате см. на странице курса). Если вы нашли решение какого-то из заданий (или его часть) в открытом источнике, необходимо указать ссылку на этот источник в отдельном блоке в конце вашей работы (скорее всего вы будете не единственным, кто это нашел, поэтому чтобы исключить подозрение в плагиате, необходима ссылка на источник).\n",
    "\n",
    "Неэффективная реализация кода может негативно отразиться на оценке.\n",
    "\n",
    "\n",
    "### Формат сдачи\n",
    "Для сдачи задания переименуйте получившийся файл *.ipynb в соответствии со следующим форматом: homework-practice-02-Username.ipynb, где Username — ваша фамилия и имя на латинице именно в таком порядке (например, homework-practice-02-ivanov.ipynb).\n",
    "\n",
    "Далее отправьте этот файл на anytask в соответсвующий раздел."
   ]
  },
  {
   "cell_type": "code",
   "execution_count": 1,
   "metadata": {
    "collapsed": true
   },
   "outputs": [],
   "source": [
    "import numpy as np\n",
    "import pandas as pd\n",
    "from sklearn import preprocessing\n",
    "from sklearn.metrics import roc_auc_score\n",
    "from sklearn.preprocessing import Normalizer\n",
    "from sklearn.neighbors import KNeighborsClassifier\n"
   ]
  },
  {
   "cell_type": "markdown",
   "metadata": {},
   "source": [
    "Все эксперименты в этой лабораторной работе предлагается проводить на данных соревнования New York City Airbnb Open Data: https://www.kaggle.com/dgomonov/new-york-city-airbnb-open-data#AB_NYC_2019.csv\n",
    "\n",
    "В данной задаче предлагается предсказать цену на съем квартиры в зависимости от её параметров."
   ]
  },
  {
   "cell_type": "code",
   "execution_count": 2,
   "metadata": {
    "collapsed": true
   },
   "outputs": [
    {
     "data": {
      "text/plain": "     id                                              name  host_id  \\\n0  2539                Clean & quiet apt home by the park     2787   \n1  2595                             Skylit Midtown Castle     2845   \n2  3647               THE VILLAGE OF HARLEM....NEW YORK !     4632   \n3  3831                   Cozy Entire Floor of Brownstone     4869   \n4  5022  Entire Apt: Spacious Studio/Loft by central park     7192   \n\n     host_name neighbourhood_group neighbourhood  latitude  longitude  \\\n0         John            Brooklyn    Kensington  40.64749  -73.97237   \n1     Jennifer           Manhattan       Midtown  40.75362  -73.98377   \n2    Elisabeth           Manhattan        Harlem  40.80902  -73.94190   \n3  LisaRoxanne            Brooklyn  Clinton Hill  40.68514  -73.95976   \n4        Laura           Manhattan   East Harlem  40.79851  -73.94399   \n\n         room_type  price  minimum_nights  number_of_reviews last_review  \\\n0     Private room    149               1                  9  2018-10-19   \n1  Entire home/apt    225               1                 45  2019-05-21   \n2     Private room    150               3                  0         NaN   \n3  Entire home/apt     89               1                270  2019-07-05   \n4  Entire home/apt     80              10                  9  2018-11-19   \n\n   reviews_per_month  calculated_host_listings_count  availability_365  \n0               0.21                               6               365  \n1               0.38                               2               355  \n2                NaN                               1               365  \n3               4.64                               1               194  \n4               0.10                               1                 0  ",
      "text/html": "<div>\n<style scoped>\n    .dataframe tbody tr th:only-of-type {\n        vertical-align: middle;\n    }\n\n    .dataframe tbody tr th {\n        vertical-align: top;\n    }\n\n    .dataframe thead th {\n        text-align: right;\n    }\n</style>\n<table border=\"1\" class=\"dataframe\">\n  <thead>\n    <tr style=\"text-align: right;\">\n      <th></th>\n      <th>id</th>\n      <th>name</th>\n      <th>host_id</th>\n      <th>host_name</th>\n      <th>neighbourhood_group</th>\n      <th>neighbourhood</th>\n      <th>latitude</th>\n      <th>longitude</th>\n      <th>room_type</th>\n      <th>price</th>\n      <th>minimum_nights</th>\n      <th>number_of_reviews</th>\n      <th>last_review</th>\n      <th>reviews_per_month</th>\n      <th>calculated_host_listings_count</th>\n      <th>availability_365</th>\n    </tr>\n  </thead>\n  <tbody>\n    <tr>\n      <th>0</th>\n      <td>2539</td>\n      <td>Clean &amp; quiet apt home by the park</td>\n      <td>2787</td>\n      <td>John</td>\n      <td>Brooklyn</td>\n      <td>Kensington</td>\n      <td>40.64749</td>\n      <td>-73.97237</td>\n      <td>Private room</td>\n      <td>149</td>\n      <td>1</td>\n      <td>9</td>\n      <td>2018-10-19</td>\n      <td>0.21</td>\n      <td>6</td>\n      <td>365</td>\n    </tr>\n    <tr>\n      <th>1</th>\n      <td>2595</td>\n      <td>Skylit Midtown Castle</td>\n      <td>2845</td>\n      <td>Jennifer</td>\n      <td>Manhattan</td>\n      <td>Midtown</td>\n      <td>40.75362</td>\n      <td>-73.98377</td>\n      <td>Entire home/apt</td>\n      <td>225</td>\n      <td>1</td>\n      <td>45</td>\n      <td>2019-05-21</td>\n      <td>0.38</td>\n      <td>2</td>\n      <td>355</td>\n    </tr>\n    <tr>\n      <th>2</th>\n      <td>3647</td>\n      <td>THE VILLAGE OF HARLEM....NEW YORK !</td>\n      <td>4632</td>\n      <td>Elisabeth</td>\n      <td>Manhattan</td>\n      <td>Harlem</td>\n      <td>40.80902</td>\n      <td>-73.94190</td>\n      <td>Private room</td>\n      <td>150</td>\n      <td>3</td>\n      <td>0</td>\n      <td>NaN</td>\n      <td>NaN</td>\n      <td>1</td>\n      <td>365</td>\n    </tr>\n    <tr>\n      <th>3</th>\n      <td>3831</td>\n      <td>Cozy Entire Floor of Brownstone</td>\n      <td>4869</td>\n      <td>LisaRoxanne</td>\n      <td>Brooklyn</td>\n      <td>Clinton Hill</td>\n      <td>40.68514</td>\n      <td>-73.95976</td>\n      <td>Entire home/apt</td>\n      <td>89</td>\n      <td>1</td>\n      <td>270</td>\n      <td>2019-07-05</td>\n      <td>4.64</td>\n      <td>1</td>\n      <td>194</td>\n    </tr>\n    <tr>\n      <th>4</th>\n      <td>5022</td>\n      <td>Entire Apt: Spacious Studio/Loft by central park</td>\n      <td>7192</td>\n      <td>Laura</td>\n      <td>Manhattan</td>\n      <td>East Harlem</td>\n      <td>40.79851</td>\n      <td>-73.94399</td>\n      <td>Entire home/apt</td>\n      <td>80</td>\n      <td>10</td>\n      <td>9</td>\n      <td>2018-11-19</td>\n      <td>0.10</td>\n      <td>1</td>\n      <td>0</td>\n    </tr>\n  </tbody>\n</table>\n</div>"
     },
     "execution_count": 2,
     "metadata": {},
     "output_type": "execute_result"
    }
   ],
   "source": [
    "data = pd.read_csv('AB_NYC_2019.csv')\n",
    "data.head()"
   ]
  },
  {
   "cell_type": "code",
   "execution_count": 3,
   "metadata": {
    "collapsed": true
   },
   "outputs": [
    {
     "data": {
      "text/plain": "(48895, 16)"
     },
     "execution_count": 3,
     "metadata": {},
     "output_type": "execute_result"
    }
   ],
   "source": [
    "data.shape"
   ]
  },
  {
   "cell_type": "code",
   "execution_count": 4,
   "metadata": {
    "collapsed": true
   },
   "outputs": [
    {
     "name": "stdout",
     "output_type": "stream",
     "text": [
      "id 48895\n",
      "name 47906\n",
      "host_id 37457\n",
      "host_name 11453\n",
      "neighbourhood_group 5\n",
      "neighbourhood 221\n",
      "latitude 19048\n",
      "longitude 14718\n",
      "room_type 3\n",
      "price 674\n",
      "minimum_nights 109\n",
      "number_of_reviews 394\n",
      "last_review 1765\n",
      "reviews_per_month 938\n",
      "calculated_host_listings_count 47\n",
      "availability_365 366\n"
     ]
    }
   ],
   "source": [
    "# число значений у признаков\n",
    "for col_name in data.columns:\n",
    "    print(col_name, len(data[col_name].unique()))"
   ]
  },
  {
   "cell_type": "code",
   "execution_count": 5,
   "metadata": {
    "collapsed": true
   },
   "outputs": [
    {
     "data": {
      "text/plain": "id                                    0\nname                                 16\nhost_id                               0\nhost_name                            21\nneighbourhood_group                   0\nneighbourhood                         0\nlatitude                              0\nlongitude                             0\nroom_type                             0\nprice                                 0\nminimum_nights                        0\nnumber_of_reviews                     0\nlast_review                       10052\nreviews_per_month                 10052\ncalculated_host_listings_count        0\navailability_365                      0\ndtype: int64"
     },
     "execution_count": 5,
     "metadata": {},
     "output_type": "execute_result"
    }
   ],
   "source": [
    "data.isna().sum()"
   ]
  },
  {
   "cell_type": "markdown",
   "metadata": {},
   "source": [
    "Как видите, в данных есть пропуски. Не забудьте обработать их"
   ]
  },
  {
   "cell_type": "code",
   "execution_count": 6,
   "metadata": {
    "collapsed": true
   },
   "outputs": [
    {
     "data": {
      "text/plain": "0        0.21\n1        0.38\n2        0.00\n3        4.64\n4        0.10\n         ... \n48890    0.00\n48891    0.00\n48892    0.00\n48893    0.00\n48894    0.00\nName: reviews_per_month, Length: 48895, dtype: float64"
     },
     "execution_count": 6,
     "metadata": {},
     "output_type": "execute_result"
    }
   ],
   "source": [
    "data['name'].fillna('')\n",
    "data['last_review'].fillna(' ')\n",
    "data['reviews_per_month'].fillna(0)"
   ]
  },
  {
   "cell_type": "markdown",
   "metadata": {},
   "source": [
    "Разобъем данные на обучение и контроль."
   ]
  },
  {
   "cell_type": "code",
   "execution_count": 7,
   "metadata": {
    "collapsed": true,
    "scrolled": false
   },
   "outputs": [],
   "source": [
    "from sklearn.model_selection import train_test_split\n",
    "X_train, X_test, y_train, y_test = train_test_split(data.drop(columns=['price']), data[['price']],\n",
    "                                                    test_size=0.3, random_state=241)"
   ]
  },
  {
   "cell_type": "markdown",
   "metadata": {},
   "source": [
    "## Часть 1: Алгоритм kNN в задаче регрессии"
   ]
  },
  {
   "cell_type": "markdown",
   "metadata": {},
   "source": [
    "<b> 1.1 (1.5 балла) </b>\n",
    "Реализуйте класс `KNNRegressor`, который используя метод k ближайших соседей решает задачу регрессии. Для решение данной задачи, необходимо найти $N_k$ - k соседей, и после использовать значения их целевых переменных для предсказания:\n",
    "\\begin{align}\n",
    "y = \\frac{1}{k}\\sum_{n \\in N_k}w_n y_n,\n",
    "\\end{align}\n",
    "\n",
    "где $w_n$ - вес каждого соседа. \n",
    "\n",
    "При этом `KNNRegressor` может работать в 2 режимах:\n",
    " - $uniform$ - ближайшие соседи учитываются с одинаковыми весами.\n",
    " - $distance$ - вес ближайших соседей зависит от расстояния\n",
    " \n",
    "**Сигнатуру методов, классов, функции при желании можно менять.**"
   ]
  },
  {
   "cell_type": "code",
   "execution_count": 8,
   "metadata": {},
   "outputs": [],
   "source": [
    "from typing import Union, Callable, Iterable, Optional\n",
    "from sklearn.neighbors import NearestNeighbors\n",
    "\n",
    "\n",
    "class KNNRegressor:\n",
    "    def __init__(self, n_neighbors: int, metric: Union[str, Callable], mode: str = 'uniform'):\n",
    "        \"\"\"\n",
    "        params:\n",
    "            n_neighbors: number of neighbors\n",
    "            metric: metric to use for distance computation\n",
    "            mode: 'uniform' or 'distance'\n",
    "            'uniform' - all points in each neighborhood are weighted equally\n",
    "            'distance' - weight points by the inverse of their distance\n",
    "        \"\"\"\n",
    "        self.__nn = NearestNeighbors(n_neighbors=n_neighbors, metric=metric)\n",
    "        self.__mode = mode\n",
    "        self.__n_neighbors = n_neighbors\n",
    "\n",
    "    def fit(self, X: np.array, y: np.array) -> None:\n",
    "        \"\"\"\n",
    "            X: data\n",
    "            y: labels\n",
    "        \"\"\"\n",
    "        self.__nn.fit(X)\n",
    "        self.X_train = X\n",
    "        self.y_train = y\n",
    "\n",
    "\n",
    "\n",
    "    def predict(self, X: np.array, n_neighbors: Optional[int] = None) -> np.array:\n",
    "        \"\"\"\n",
    "            X: data\n",
    "            n_neighbors: number of neighbors\n",
    "        \"\"\"\n",
    "\n",
    "        dist, ind = self.__nn.kneighbors(X, n_neighbors=n_neighbors, return_distance=True)\n",
    "        if self.__mode == 'distance':\n",
    "            el_weights = 1 / (dist + 10 ** -5)\n",
    "            coef = el_weights.sum(axis = 1)\n",
    "            answers = self.y_train[ind] * el_weights\n",
    "        else:\n",
    "            answers = self.y_train[ind]\n",
    "            coef = n_neighbors\n",
    "        return answers.sum(axis = 1) / coef\n",
    "\n"
   ]
  },
  {
   "cell_type": "markdown",
   "metadata": {},
   "source": [
    "## Часть 2: Категориальные признаки"
   ]
  },
  {
   "cell_type": "markdown",
   "metadata": {},
   "source": [
    "<b>2.1 (1 балл)</b>\n",
    "Реализуйте три функции расстояния на категориальных признаках _(в этом задании только на них!)_ , которые обсуждались на [втором семинаре](https://github.com/mmp-mmro-team/mmp_mmro_fall_2020/blob/master/seminars/sem02_knn.pdf). Не забудьте, что KNNRegressor должен уметь работать с этими функциями расстояния. Как вариант, можно реализовать метрики как [user-defined distance](http://scikit-learn.org/stable/modules/generated/sklearn.neighbors.DistanceMetric.html)."
   ]
  },
  {
   "cell_type": "code",
   "execution_count": 23,
   "metadata": {
    "collapsed": true
   },
   "outputs": [],
   "source": [
    "def overlap(x, z):\n",
    "    return np.sum(x != z)\n",
    "\n",
    "\n",
    "class flattened_overlap:\n",
    "    def fit(self, X_train):\n",
    "        self.f = []\n",
    "        self.l = X_train.shape[0]\n",
    "        for column in X_train.T:\n",
    "            d = dict(zip(*np.unique(column, return_counts=True)))\n",
    "            self.f.append(d)\n",
    "\n",
    "    def _f(self, j, x):\n",
    "        if x in self.f[j].keys():\n",
    "            return self.f[j][x]\n",
    "        else:\n",
    "            return 0\n",
    "\n",
    "    def _p(self, j, x):\n",
    "        return self._f(j, x) / self.l\n",
    "\n",
    "    def _p_squared(self, j, x):\n",
    "        return (self._f(j, x) * (self._f(j, x) - 1)) / (self.l * (self.l - 1))\n",
    "\n",
    "    def __call__(self, x, z):\n",
    "        result = 0\n",
    "        for i in range(len(x)):\n",
    "            if x[i] != z[i]:\n",
    "                result += 1\n",
    "            else:\n",
    "                tresh = self._p(i, x[i])\n",
    "                for q in self.f[i].keys():\n",
    "                    if self._p(i, q) <= tresh:\n",
    "                        result += self._p_squared(i, q)\n",
    "        return result\n",
    "\n",
    "class log_overlap:\n",
    "    def fit(self, X_train):\n",
    "        self.f = []\n",
    "        self.l = X_train.shape[0]\n",
    "        for column in X_train.T:\n",
    "            d = dict(zip(*np.unique(column, return_counts=True)))\n",
    "            self.f.append(d)\n",
    "\n",
    "    def _f(self, j, x):\n",
    "        if x in self.f[j].keys():\n",
    "            return self.f[j][x]\n",
    "        else:\n",
    "            return 0\n",
    "\n",
    "    def __call__(self, x, z):\n",
    "        result = 0\n",
    "        for i in range(len(x)):\n",
    "            if x[i] != z[i]:\n",
    "                result += np.log(self._f(i, x[i]) + 1) * np.log(self._f(i, z[i]) + 1)\n",
    "        return result"
   ]
  },
  {
   "cell_type": "markdown",
   "metadata": {},
   "source": [
    "<b>2.2 (1 балл)</b> Найдите все категориальные признаки в данных. Подсчитайте для каждой из метрик качество на тестовой выборке `X_test` при числе соседей $k = 10$. Качество измеряйте с помощью RMSE.\n",
    "\n",
    "Какая функция расстояния оказалась лучшей? Почему?"
   ]
  },
  {
   "cell_type": "code",
   "execution_count": 8,
   "outputs": [
    {
     "name": "stdout",
     "output_type": "stream",
     "text": [
      "id 48895\n",
      "name 47905\n",
      "host_id 37457\n",
      "host_name 11452\n",
      "neighbourhood_group 5\n",
      "neighbourhood 221\n",
      "latitude 19048\n",
      "longitude 14718\n",
      "room_type 3\n",
      "price 674\n",
      "minimum_nights 109\n",
      "number_of_reviews 394\n",
      "last_review 1764\n",
      "reviews_per_month 937\n",
      "calculated_host_listings_count 47\n",
      "availability_365 366\n"
     ]
    }
   ],
   "source": [
    "for col_name in data.columns:\n",
    "    print(col_name, data[col_name].nunique())\n",
    "X_train_cat = X_train[['neighbourhood_group', 'neighbourhood', 'room_type']]\n",
    "X_test_cat = X_test[['neighbourhood_group', 'neighbourhood', 'room_type']]"
   ],
   "metadata": {
    "collapsed": false,
    "pycharm": {
     "name": "#%% Посмотрим на уникальные категориальные признаки\n"
    }
   }
  },
  {
   "cell_type": "code",
   "execution_count": 9,
   "metadata": {
    "collapsed": true,
    "pycharm": {
     "name": "#%%\n"
    }
   },
   "outputs": [],
   "source": [
    "pd.options.mode.chained_assignment = None\n",
    "for i in range(3):\n",
    "    label_encoder = preprocessing.LabelEncoder()\n",
    "    label_encoder.fit(np.concatenate((X_train_cat.iloc[:, i].values, X_test_cat.iloc[:, i].values)))\n",
    "    X_train_cat.iloc[:, i] = label_encoder.transform(X_train_cat.iloc[:, i])\n",
    "    X_test_cat.iloc[:, i] = label_encoder.transform(X_test_cat.iloc[:, i])"
   ]
  },
  {
   "cell_type": "markdown",
   "source": [
    "Overlap"
   ],
   "metadata": {
    "collapsed": false,
    "pycharm": {
     "name": "#%% md\n"
    }
   }
  },
  {
   "cell_type": "code",
   "execution_count": 12,
   "outputs": [
    {
     "name": "stdout",
     "output_type": "stream",
     "text": [
      "Wall time: 16min 39s\n"
     ]
    }
   ],
   "source": [
    "%%time\n",
    "clf = KNNRegressor(10, overlap, 'distances')\n",
    "clf.fit(X_train_cat.values, y_train.values)\n",
    "res_overlap = clf.predict(X_test_cat.values)"
   ],
   "metadata": {
    "collapsed": false,
    "pycharm": {
     "name": "#%%\n"
    }
   }
  },
  {
   "cell_type": "markdown",
   "source": [
    "RMSE for overlap"
   ],
   "metadata": {
    "collapsed": false,
    "pycharm": {
     "name": "#%% md\n"
    }
   }
  },
  {
   "cell_type": "code",
   "execution_count": 13,
   "outputs": [
    {
     "data": {
      "text/plain": "217.16567261249645"
     },
     "execution_count": 13,
     "metadata": {},
     "output_type": "execute_result"
    }
   ],
   "source": [
    "np.sqrt(((res_overlap - y_test.values.flatten()) ** 2).mean())"
   ],
   "metadata": {
    "collapsed": false,
    "pycharm": {
     "name": "#%% RMSE\n"
    }
   }
  },
  {
   "cell_type": "markdown",
   "source": [
    "Flatten overlap"
   ],
   "metadata": {
    "collapsed": false,
    "pycharm": {
     "name": "#%% md\n"
    }
   }
  },
  {
   "cell_type": "code",
   "execution_count": 26,
   "outputs": [
    {
     "name": "stdout",
     "output_type": "stream",
     "text": [
      "Wall time: 3h 5min 40s\n"
     ]
    }
   ],
   "source": [
    "%%time\n",
    "flatten_overlap = flattened_overlap()\n",
    "flatten_overlap.fit(X_train_cat.values)\n",
    "clf = KNNRegressor(10, flatten_overlap, 'distances')\n",
    "clf.fit(X_train_cat.values, y_train.values.flatten())\n",
    "res_log = clf.predict(X_test_cat.values, 10)\n"
   ],
   "metadata": {
    "collapsed": false,
    "pycharm": {
     "name": "#%%\n"
    }
   }
  },
  {
   "cell_type": "markdown",
   "source": [
    "RMSE for flatten overlap"
   ],
   "metadata": {
    "collapsed": false
   }
  },
  {
   "cell_type": "code",
   "execution_count": 27,
   "outputs": [
    {
     "data": {
      "text/plain": "217.14257662200606"
     },
     "execution_count": 27,
     "metadata": {},
     "output_type": "execute_result"
    }
   ],
   "source": [
    "np.sqrt(((res_log - y_test.values.flatten()) ** 2).mean())"
   ],
   "metadata": {
    "collapsed": false,
    "pycharm": {
     "name": "#%%\n"
    }
   }
  },
  {
   "cell_type": "markdown",
   "source": [
    "Log overlap"
   ],
   "metadata": {
    "collapsed": false,
    "pycharm": {
     "name": "#%% md\n"
    }
   }
  },
  {
   "cell_type": "code",
   "execution_count": 24,
   "outputs": [
    {
     "name": "stdout",
     "output_type": "stream",
     "text": [
      "Wall time: 44min 39s\n"
     ]
    }
   ],
   "source": [
    "%%time\n",
    "log_overlap_ = log_overlap()\n",
    "log_overlap_.fit(X_train_cat.values)\n",
    "clf = KNNRegressor(10, log_overlap_, 'distances')\n",
    "clf.fit(X_train_cat.values, y_train.values.flatten())\n",
    "res_logo = clf.predict(X_test_cat.values, 10)"
   ],
   "metadata": {
    "collapsed": false,
    "pycharm": {
     "name": "#%%\n"
    }
   }
  },
  {
   "cell_type": "markdown",
   "source": [
    "RMSE for Log overlap"
   ],
   "metadata": {
    "collapsed": false
   }
  },
  {
   "cell_type": "code",
   "execution_count": 25,
   "outputs": [
    {
     "data": {
      "text/plain": "217.1993405123174"
     },
     "execution_count": 25,
     "metadata": {},
     "output_type": "execute_result"
    }
   ],
   "source": [
    "np.sqrt(((res_logo - y_test.values.flatten()) ** 2).mean())"
   ],
   "metadata": {
    "collapsed": false,
    "pycharm": {
     "name": "#%%\n"
    }
   }
  },
  {
   "cell_type": "markdown",
   "source": [
    "Вывод по данным результатам:"
   ],
   "metadata": {
    "collapsed": false
   }
  },
  {
   "cell_type": "markdown",
   "source": [
    "Наилучшие результаты показала модель, использующая метрику сглажевания индикатора совпадения(flatten overlap).\n",
    "Из этого можно сделать вывод, что в выборке много равных объектов, но с разными частотами признаков."
   ],
   "metadata": {
    "collapsed": false
   }
  },
  {
   "cell_type": "markdown",
   "metadata": {},
   "source": [
    "<b>2.3 (1 балл) бонус</b> Подберите лучшее (на тестовой выборке) число соседей $k$ для каждой из функций расстояния. Какого удалось достичь уровня качества?"
   ]
  },
  {
   "cell_type": "code",
   "execution_count": null,
   "metadata": {
    "collapsed": true
   },
   "outputs": [],
   "source": [
    "# Ваш код здесь"
   ]
  },
  {
   "cell_type": "markdown",
   "metadata": {},
   "source": [
    "<b>2.4 (2.5 балла)</b> Отойдем ненадолго от задачи регрессии и перейдём к задаче классификации: будем определять, являеться ли квартира дорогой $(target = 1)$ или дешевой $(target = 0)$. Будем считать дорогими квариры, цена которых выше среднего."
   ]
  },
  {
   "cell_type": "code",
   "execution_count": 34,
   "metadata": {
    "collapsed": true
   },
   "outputs": [],
   "source": [
    "data['target'] = (data.price > data.price.mean()).astype(int)\n",
    "\n",
    "X_train, X_test, y_train, y_test = train_test_split(data.drop(columns=['price']), data[['price']],\n",
    "                                                    test_size=0.3, random_state=241)"
   ]
  },
  {
   "cell_type": "markdown",
   "metadata": {},
   "source": [
    "Реализуйте счетчики, которые заменят категориальные признаки на вещественные.\n",
    "\n",
    "А именно, для каждого категориального признака $f_j(x)$ необходимо сделать следующее:\n",
    "1. Число `counts` объектов в обучающей выборке с таким же значением признака.\n",
    "\\begin{align}\n",
    "counts_j(c) = \\sum_{i=1}^l [f_j(x_i) = c]\n",
    "\\end{align}\n",
    "2. Число `successes` объектов первого класса ($y = 1$) в обучающей выборке с таким же значением признака.\n",
    "\\begin{align}\n",
    "successes_j(c) = \\sum_{i=1}^l[f_j(x_i) = c][y_i = +1].\n",
    "\\end{align}\n",
    "3. Сглаженное отношение двух предыдущих величин:\n",
    "\\begin{align}\n",
    "p_j(c) = \\frac{successes_j(c) + a}{counts_j(c) + b},\n",
    "\\end{align}\n",
    "\n",
    "где $a$ и $b$ - априорные счетчики (например, a = 1, b = 2)."
   ]
  },
  {
   "cell_type": "code",
   "execution_count": 25,
   "metadata": {
    "collapsed": true
   },
   "outputs": [],
   "source": [
    "def counts(X_train, X_test):\n",
    "    d = dict(zip(*np.unique(X_train, return_counts=True)))\n",
    "    return np.array([d[t] if t in d.keys() else 0 for t in X_test])\n",
    "\n",
    "def success(X_train, y, X_test):\n",
    "    u = X_train[y == 1]\n",
    "    d = dict(zip(*np.unique(u, return_counts=True)))\n",
    "    return np.array([d[t] if t in d.keys() else 0 for t in X_test])\n",
    "\n",
    "def p(x, X_train, y_train, a, b):\n",
    "    return (success(x, X_train, y_train) + a) / (counts(x, y_train) + b)"
   ]
  },
  {
   "cell_type": "markdown",
   "metadata": {},
   "source": [
    "Поскольку признаки, содержащие информацию о целевой переменной, могут привести к переобучению, может оказаться полезным сделать *фолдинг*: разбить обучающую выборку на $n$ частей, и для $i$-й части считать `counts` и `successes` по всем остальным частям. Для тестовой выборки используются счетчики, посчитанный по всей обучающей выборке. Реализуйте и такой вариант. Достаточно взять $n = 3$."
   ]
  },
  {
   "cell_type": "code",
   "execution_count": 14,
   "metadata": {
    "collapsed": true
   },
   "outputs": [],
   "source": [
    "def kfold(n, n_folds=3):\n",
    "    all_idx = range(n)\n",
    "    folds = np.array_split(all_idx, n_folds)\n",
    "    res = []\n",
    "    for k in range(n_folds):\n",
    "        if k == 0:\n",
    "            edu = np.hstack(folds[k + 1:])\n",
    "        elif k == n_folds - 1:\n",
    "            edu = np.hstack(folds[:k])\n",
    "        else:\n",
    "            edu = np.hstack((np.hstack(folds[:k]), np.hstack(folds[k + 1:])))\n",
    "        val = folds[k]\n",
    "        res.append((edu, val))\n",
    "    return res\n",
    "\n",
    "def fold_counters(x, labels):\n",
    "    \"\"\"\n",
    "    params:\n",
    "        x: value on categorical feature for N objects\n",
    "    returns: vector of length N\n",
    "    \"\"\"\n",
    "    result1 = np.zeros(len(x))\n",
    "    result2 = np.zeros(len(x))\n",
    "    result3 = np.zeros(len(x))\n",
    "    folds = kfold(len(x))\n",
    "    for idx_train, idx_test in folds:\n",
    "        result1[idx_test] = p(x[idx_train], labels[idx_train], x[idx_test], 1, 2)\n",
    "        result2[idx_test] = counts(x[idx_train], x[idx_test])\n",
    "        result3[idx_test] = success(x[idx_train], labels[idx_train], x[idx_test])\n",
    "    return result1, result2, result3"
   ]
  },
  {
   "cell_type": "markdown",
   "metadata": {},
   "source": [
    "Посчитайте на тесте AUC-ROC метода $k$ ближайших соседей с евклидовой метрикой для выборки, где категориальные признаки заменены на счетчики. Сравните по AUC-ROC два варианта формирования выборки — с фолдингом и без. Не забудьте подобрать наилучшее число соседей $k$."
   ]
  },
  {
   "cell_type": "markdown",
   "source": [
    "Заменяем признаки на счетчики с фолдингом\n"
   ],
   "metadata": {
    "collapsed": false,
    "pycharm": {
     "name": "#%% md\n"
    }
   }
  },
  {
   "cell_type": "code",
   "execution_count": 40,
   "outputs": [],
   "source": [
    "X_train_cat = X_train[['neighbourhood_group', 'neighbourhood', 'room_type', 'target']]\n",
    "X_test_cat = X_test[['neighbourhood_group', 'neighbourhood', 'room_type', 'target']]\n",
    "\n",
    "target_train = X_train_cat['target'].values\n",
    "target_test = X_test_cat['target'].values\n",
    "\n",
    "for name in ['neighbourhood_group', 'neighbourhood', 'room_type']:\n",
    "    p_ = p(X_train_cat[name].values, target_train, X_test_cat[name].values, 1, 2)\n",
    "    counts_ = counts(X_train_cat[name].values, X_test_cat[name].values)\n",
    "    success_ = success(X_train_cat[name].values, target_train, X_test_cat[name].values)\n",
    "\n",
    "    X_test_cat[name + '_p'] = p_\n",
    "    X_test_cat[name + '_c'] = counts_\n",
    "    X_test_cat[name + '_s'] = success_\n",
    "    t_p, t_counts, t_success = fold_counters(X_train_cat[name].values, target_train)\n",
    "    X_train_cat[name + '_f'] = t_p\n",
    "    X_train_cat[name + '_c'] = t_counts\n",
    "    X_train_cat[name + '_s'] = t_success\n",
    "X_train_cat.drop(columns=['neighbourhood_group', 'neighbourhood', 'room_type', 'target'], inplace=True)\n",
    "X_test_cat.drop(columns=['neighbourhood_group', 'neighbourhood', 'room_type', 'target'], inplace=True)"
   ],
   "metadata": {
    "collapsed": false,
    "pycharm": {
     "name": "#%%\n"
    }
   }
  },
  {
   "cell_type": "markdown",
   "metadata": {
    "collapsed": true,
    "pycharm": {
     "name": "#%% md\n"
    }
   },
   "source": [
    "AUC-ROC с фолдингом"
   ]
  },
  {
   "cell_type": "code",
   "execution_count": 41,
   "outputs": [
    {
     "name": "stdout",
     "output_type": "stream",
     "text": [
      "best results: k = 91, AUC-ROC = 0.8668711579869955\n"
     ]
    }
   ],
   "source": [
    "pd.options.mode.chained_assignment = None\n",
    "k_range = np.arange(1, 100, 5)\n",
    "\n",
    "norm = Normalizer()\n",
    "norm.fit(X_train_cat)\n",
    "X_train_cat = norm.transform(X_train_cat)\n",
    "X_test_cat = norm.transform(X_test_cat)\n",
    "best_k = -1\n",
    "max_score = -1\n",
    "for k in k_range:\n",
    "    clf = KNeighborsClassifier(k, metric='euclidean', weights='distance')\n",
    "    clf.fit(X_train_cat, target_train)\n",
    "    pred = clf.predict_proba(X_test_cat)[:, 1]\n",
    "    score = roc_auc_score(target_test, pred)\n",
    "    if score > max_score:\n",
    "        best_k = k\n",
    "        max_score = score\n",
    "print(f'best results: k = {best_k}, AUC-ROC = {max_score}')\n"
   ],
   "metadata": {
    "collapsed": false,
    "pycharm": {
     "name": "#%%\n"
    }
   }
  },
  {
   "cell_type": "markdown",
   "source": [
    "Заменяем признаки на счетчики без фолдинга"
   ],
   "metadata": {
    "collapsed": false,
    "pycharm": {
     "name": "#%% md\n"
    }
   }
  },
  {
   "cell_type": "code",
   "execution_count": 42,
   "outputs": [],
   "source": [
    "X_train_cat = X_train[['neighbourhood_group', 'neighbourhood', 'room_type', 'target']]\n",
    "X_test_cat = X_test[['neighbourhood_group', 'neighbourhood', 'room_type', 'target']]\n",
    "\n",
    "target_train = X_train_cat['target'].values\n",
    "target_test = X_test_cat['target'].values\n",
    "\n",
    "for name in ['neighbourhood_group', 'neighbourhood', 'room_type']:\n",
    "    p_ = p(X_train_cat[name].values, target_train, X_test_cat[name].values, 1, 2)\n",
    "    counts_ = counts(X_train_cat[name].values, X_test_cat[name].values)\n",
    "    success_ = success(X_train_cat[name].values, target_train, X_test_cat[name].values)\n",
    "\n",
    "    X_test_cat[name + '_p'] = p_\n",
    "    X_test_cat[name + '_c'] = counts_\n",
    "    X_test_cat[name + '_s'] = success_\n",
    "\n",
    "    t_p = p(X_train_cat[name].values, target_train, X_train_cat[name].values, 1, 2)\n",
    "    t_counts = counts(X_train_cat[name].values, X_train_cat[name].values)\n",
    "    t_success = success(X_train_cat[name].values, target_train, X_train_cat[name].values)\n",
    "\n",
    "    X_train_cat[name + '_f'] = t_p\n",
    "    X_train_cat[name + '_c'] = t_counts\n",
    "    X_train_cat[name + '_s'] = t_success\n",
    "X_train_cat.drop(columns=['neighbourhood_group', 'neighbourhood', 'room_type', 'target'], inplace=True)\n",
    "X_test_cat.drop(columns=['neighbourhood_group', 'neighbourhood', 'room_type', 'target'], inplace=True)"
   ],
   "metadata": {
    "collapsed": false,
    "pycharm": {
     "name": "#%%\n"
    }
   }
  },
  {
   "cell_type": "markdown",
   "source": [
    "AUC-ROC без фолдингов"
   ],
   "metadata": {
    "collapsed": false,
    "pycharm": {
     "name": "#%% md\n"
    }
   }
  },
  {
   "cell_type": "code",
   "execution_count": 43,
   "outputs": [
    {
     "name": "stdout",
     "output_type": "stream",
     "text": [
      "best results: k = 96, AUC-ROC = 0.8633880894685682\n"
     ]
    }
   ],
   "source": [
    "k_range = np.arange(1, 100, 5)\n",
    "\n",
    "norm = Normalizer()\n",
    "norm.fit(X_train_cat)\n",
    "X_train_cat = norm.transform(X_train_cat)\n",
    "X_test_cat = norm.transform(X_test_cat)\n",
    "best_k = -1\n",
    "max_score = -1\n",
    "for k in k_range:\n",
    "    clf = KNeighborsClassifier(k, metric='euclidean', weights='distance')\n",
    "    clf.fit(X_train_cat, target_train)\n",
    "    pred = clf.predict_proba(X_test_cat)[:, 1]\n",
    "    score = roc_auc_score(target_test, pred)\n",
    "    if score > max_score:\n",
    "        best_k = k\n",
    "        max_score = score\n",
    "print(f'best results: k = {best_k}, AUC-ROC = {max_score}')"
   ],
   "metadata": {
    "collapsed": false,
    "pycharm": {
     "name": "#%%\n"
    }
   }
  },
  {
   "cell_type": "markdown",
   "source": [
    "В итоге я получил незначительную разность(~ 0.003)  AUC-ROC для фолдов и без. Получается замена данных на счетчики\n",
    "в данном случае не приводит к переобучению."
   ],
   "metadata": {
    "collapsed": false,
    "pycharm": {
     "name": "#%% md\n"
    }
   }
  },
  {
   "cell_type": "markdown",
   "metadata": {},
   "source": [
    "<b>2.5 (1 балл)</b> Вернемся к задаче регрессии. Утверждается, что для задачи регрессии можно также сделать преобразование категориальных признаков в действительные числа. Для этого достаточно для каждого значения признака $f_j$ вычислить:\n",
    "\\begin{align}\n",
    "p_j(c) = g(T_i | f_j(x_i) = c),\n",
    "\\end{align}\n",
    "\n",
    "где $T_i$ - значения целевой переменной объекта $x_i$. Функция $g$ - среднее (mean) или среднеквадратичное отклонение (std).\n",
    "\n",
    "Закодируйте категориальные признаки обоими способами и найдите значение RMSE. Используйте евклидову метрику для поиска ближайших соседей. Для какой функции $g$ значение RMSE лучше? Почему?"
   ]
  },
  {
   "cell_type": "markdown",
   "metadata": {
    "collapsed": true,
    "pycharm": {
     "name": "#%% md\n"
    }
   },
   "source": [
    "Mean кодировка"
   ]
  },
  {
   "cell_type": "code",
   "execution_count": 50,
   "outputs": [],
   "source": [
    "X_train_cat = X_train[['neighbourhood_group', 'neighbourhood', 'room_type']]\n",
    "X_test_cat = X_test[['neighbourhood_group', 'neighbourhood', 'room_type']]\n",
    "X_train_cat['cost'] = y_train"
   ],
   "metadata": {
    "collapsed": false,
    "pycharm": {
     "name": "#%%\n"
    }
   }
  },
  {
   "cell_type": "code",
   "execution_count": 51,
   "outputs": [],
   "source": [
    "for name in ['neighbourhood_group', 'neighbourhood', 'room_type']:\n",
    "    encode = X_train_cat[[name, 'cost']].groupby(name).agg('mean')['cost'].to_dict()\n",
    "    X_test_cat[name + '_en'] = np.array([encode[t] if t in encode.keys() else 0 for t in X_test_cat[name].values])\n",
    "    X_train_cat[name + '_en'] = np.array([encode[t] if t in encode.keys() else 0 for t in X_train_cat[name].values])\n",
    "\n",
    "\n",
    "X_train_cat.drop(columns=['neighbourhood_group', 'neighbourhood', 'room_type', 'cost'], inplace=True)\n",
    "X_test_cat.drop(columns=['neighbourhood_group', 'neighbourhood', 'room_type'], inplace=True)"
   ],
   "metadata": {
    "collapsed": false,
    "pycharm": {
     "name": "#%%\n"
    }
   }
  },
  {
   "cell_type": "markdown",
   "source": [
    "RMSE for Mean"
   ],
   "metadata": {
    "collapsed": false,
    "pycharm": {
     "name": "#%% md\n"
    }
   }
  },
  {
   "cell_type": "code",
   "execution_count": 58,
   "outputs": [
    {
     "name": "stdout",
     "output_type": "stream",
     "text": [
      "best results: k = 81, best RMSE = 207.55551982688328\n"
     ]
    }
   ],
   "source": [
    "k_range = np.arange(1, 100, 5)\n",
    "\n",
    "norm = Normalizer()\n",
    "norm.fit(X_train_cat)\n",
    "X_train_cat = norm.transform(X_train_cat)\n",
    "X_test_cat = norm.transform(X_test_cat)\n",
    "best_k = -1\n",
    "max_score = 10000\n",
    "for k in k_range:\n",
    "    knn = KNNRegressor(k, metric='euclidean', mode='distance')\n",
    "    knn.fit(X_train_cat, y_train.values.flatten())\n",
    "    pred = knn.predict(X_test_cat)\n",
    "    score = np.sqrt(((pred - y_test.values.flatten()) ** 2).mean())\n",
    "    if score < max_score:\n",
    "        best_k = k\n",
    "        max_score = score\n",
    "print(f'best results: k = {best_k}, best RMSE = {max_score}')"
   ],
   "metadata": {
    "collapsed": false,
    "pycharm": {
     "name": "#%%\n"
    }
   }
  },
  {
   "cell_type": "markdown",
   "source": [
    "Std кодировка"
   ],
   "metadata": {
    "collapsed": false,
    "pycharm": {
     "name": "#%% md\n"
    }
   }
  },
  {
   "cell_type": "code",
   "execution_count": 62,
   "outputs": [],
   "source": [
    "X_train_cat = X_train[['neighbourhood_group', 'neighbourhood', 'room_type']]\n",
    "X_test_cat = X_test[['neighbourhood_group', 'neighbourhood', 'room_type']]\n",
    "X_train_cat['cost'] = y_train"
   ],
   "metadata": {
    "collapsed": false,
    "pycharm": {
     "name": "#%%\n"
    }
   }
  },
  {
   "cell_type": "code",
   "execution_count": 63,
   "outputs": [],
   "source": [
    "for name in ['neighbourhood_group', 'neighbourhood', 'room_type']:\n",
    "    encode = X_train_cat[[name, 'cost']].groupby(name).agg('std')['cost'].to_dict()\n",
    "    X_test_cat[name + '_en'] = np.array([encode[t] if t in encode.keys() else 0 for t in X_test_cat[name].values])\n",
    "    X_train_cat[name + '_en'] = np.array([encode[t] if t in encode.keys() else 0 for t in X_train_cat[name].values])\n",
    "\n",
    "X_train_cat.drop(columns=['neighbourhood_group', 'neighbourhood', 'room_type', 'cost'], inplace=True)\n",
    "X_test_cat.drop(columns=['neighbourhood_group', 'neighbourhood', 'room_type'], inplace=True)"
   ],
   "metadata": {
    "collapsed": false,
    "pycharm": {
     "name": "#%%\n"
    }
   }
  },
  {
   "cell_type": "markdown",
   "source": [
    "RMSE for Std"
   ],
   "metadata": {
    "collapsed": false,
    "pycharm": {
     "name": "#%% md\n"
    }
   }
  },
  {
   "cell_type": "code",
   "execution_count": 65,
   "outputs": [
    {
     "name": "stdout",
     "output_type": "stream",
     "text": [
      "best results: k = 96, best RMSE = 208.2473800984568\n"
     ]
    }
   ],
   "source": [
    "k_range = np.arange(1, 100, 5)\n",
    "\n",
    "X_train_cat.fillna(0, inplace=True)\n",
    "X_test_cat.fillna(0, inplace=True)\n",
    "\n",
    "norm = Normalizer()\n",
    "norm.fit(X_train_cat)\n",
    "X_train_cat = norm.transform(X_train_cat)\n",
    "X_test_cat = norm.transform(X_test_cat)\n",
    "best_k = -1\n",
    "max_score = 10000\n",
    "for k in k_range:\n",
    "    knn = KNNRegressor(k, metric='euclidean', mode='distance')\n",
    "    knn.fit(X_train_cat, y_train.values.flatten())\n",
    "    pred = knn.predict(X_test_cat)\n",
    "    score = np.sqrt(((pred - y_test.values.flatten()) ** 2).mean())\n",
    "    if score < max_score:\n",
    "        best_k = k\n",
    "        max_score = score\n",
    "print(f'best results: k = {best_k}, best RMSE = {max_score}')"
   ],
   "metadata": {
    "collapsed": false,
    "pycharm": {
     "name": "#%%\n"
    }
   }
  },
  {
   "cell_type": "markdown",
   "source": [
    "На основе этого задания результаты mean оказалась немного лучше, чем Std(разница ~ 0.69). Так как разница\n",
    "достаточно мала, недостаточно данных для выявления закономерностей."
   ],
   "metadata": {
    "collapsed": false,
    "pycharm": {
     "name": "#%% md\n"
    }
   }
  },
  {
   "cell_type": "markdown",
   "metadata": {},
   "source": [
    "## Часть 3: Текстовые признаки"
   ]
  },
  {
   "cell_type": "markdown",
   "metadata": {},
   "source": [
    "<b>3.1 (2 балла)</b> Перейдем от категориальным признаков к текстовым. Рассмотрим 2 способа преобразования текста в действительные числа:\n",
    "- Мешок слов (Bag of Words)\n",
    "- TF-IDF\n",
    "\n",
    "[Здесь](https://scikit-learn.org/stable/modules/feature_extraction.html) вы можете прочитать про их применение в Питоне.\n",
    "\n",
    "Сравните оба способа на задаче регресси. Какую лучше метрику использовать: евклидову или косинусную меру? Постройте графики зависимости качества решения задачи от способа преобразования, метрики и количества соседей. Мера качества - RMSE.\n",
    "\n",
    "Объясните полученные результаты.\n",
    "\n",
    "Перед преобразованием не забудьте уменьшить размер словаря. Например, это можно сделать за счет приведения всех слов к одному регистру и удаления [стопслов](https://en.wikipedia.org/wiki/Stop_words) (артиклей, предлогов, союзов). Можно использовать использовать, например, библиотеку nltk."
   ]
  },
  {
   "cell_type": "markdown",
   "metadata": {
    "collapsed": true,
    "pycharm": {
     "name": "#%% md\n"
    }
   },
   "source": [
    "Bag of words"
   ]
  },
  {
   "cell_type": "markdown",
   "source": [
    "Подготовка мешка слов"
   ],
   "metadata": {
    "collapsed": false,
    "pycharm": {
     "name": "#%% md\n"
    }
   }
  },
  {
   "cell_type": "code",
   "execution_count": 15,
   "outputs": [
    {
     "data": {
      "text/plain": "(array([], dtype=int64),)"
     },
     "execution_count": 15,
     "metadata": {},
     "output_type": "execute_result"
    }
   ],
   "source": [
    "from sklearn.feature_extraction.text import CountVectorizer\n",
    "\n",
    "X_train_cat = X_train['name']\n",
    "X_test_cat = X_test['name']\n",
    "np.where(X_test_cat == np.nan)\n",
    "#f = CountVectorizer(stop_words='english')\n",
    "#f3_train = f.fit_transform(X_train_cat.values).toarray()\n",
    "# f3_test = f.transform(X_test_cat.values).toarray()\n",
    "# bw_train = np.concatenate(f3_train, axis=1)\n",
    "# bw_test = np.concatenate(f3_test, axis=1)"
   ],
   "metadata": {
    "collapsed": false,
    "pycharm": {
     "name": "#%%\n"
    }
   }
  },
  {
   "cell_type": "markdown",
   "source": [
    "RMSE by euclidian for Bag of words"
   ],
   "metadata": {
    "collapsed": false,
    "pycharm": {
     "name": "#%% md\n"
    }
   }
  },
  {
   "cell_type": "code",
   "execution_count": 92,
   "outputs": [
    {
     "name": "stdout",
     "output_type": "stream",
     "text": [
      "best results: k = 91, best RMSE = 206.6366788036051\n"
     ]
    }
   ],
   "source": [
    "k_range = np.arange(1, 100, 5)\n",
    "\n",
    "norm = Normalizer()\n",
    "norm.fit(bw_train)\n",
    "X_train_cat = norm.transform(bw_train)\n",
    "X_test_cat = norm.transform(bw_test)\n",
    "best_k = -1\n",
    "max_score = 10000\n",
    "scores = np.arange(1, 100, 5)\n",
    "for i, k in enumerate(k_range):\n",
    "    knn = KNNRegressor(k, mode='uniform', metric='euclidean')\n",
    "    knn.fit(X_train_cat, y_train.values.flatten())\n",
    "    pred = knn.predict(X_test_cat, k)\n",
    "    score = np.sqrt(((pred - y_test.values.flatten()) ** 2).mean())\n",
    "    scores[i] = score\n",
    "    if score < max_score:\n",
    "        best_k = k\n",
    "        max_score = score\n",
    "print(f'best results: k = {best_k}, best RMSE = {max_score}')"
   ],
   "metadata": {
    "collapsed": false,
    "pycharm": {
     "name": "#%%\n"
    }
   }
  },
  {
   "cell_type": "markdown",
   "source": [
    "График Bag of words(euclidian)"
   ],
   "metadata": {
    "collapsed": false,
    "pycharm": {
     "name": "#%% md\n"
    }
   }
  },
  {
   "cell_type": "code",
   "source": [
    "import matplotlib.pyplot as plt\n",
    "plt.plot(k_range, scores)\n",
    "plt.grid()\n",
    "plt.xticks(k_range)\n",
    "plt.xlabel('Количество соседей')\n",
    "plt.ylabel('RMSE')\n",
    "plt.title('График зависимости RMSE для Bag of words with euclidean metric')"
   ],
   "metadata": {
    "collapsed": false,
    "pycharm": {
     "name": "#%%\n"
    }
   },
   "execution_count": 94,
   "outputs": [
    {
     "data": {
      "text/plain": "Text(0.5, 1.0, 'График зависимости RMSE для Bag of words with euclidean metric')"
     },
     "execution_count": 94,
     "metadata": {},
     "output_type": "execute_result"
    },
    {
     "data": {
      "text/plain": "<Figure size 432x288 with 1 Axes>",
      "image/png": "[encoded data removed]"
     },
     "metadata": {
      "needs_background": "light"
     },
     "output_type": "display_data"
    }
   ]
  },
  {
   "cell_type": "markdown",
   "source": [
    "RMSE by cosine for Bag of words"
   ],
   "metadata": {
    "collapsed": false
   }
  },
  {
   "cell_type": "code",
   "execution_count": 95,
   "outputs": [
    {
     "name": "stdout",
     "output_type": "stream",
     "text": [
      "best results: k = 96, best RMSE = 206.71734083069305\n"
     ]
    }
   ],
   "source": [
    "# k_range = np.arange(1, 100, 5)\n",
    "# norm = Normalizer()\n",
    "# norm.fit(bw_train)\n",
    "# X_train_cat = norm.transform(bw_train)\n",
    "# X_test_cat = norm.transform(bw_test)\n",
    "best_k = -1\n",
    "max_score = 10000\n",
    "scores_cb = np.arange(1, 100, 5)\n",
    "for i, k in enumerate(k_range):\n",
    "    knn = KNNRegressor(k, mode='uniform', metric='cosine')\n",
    "    knn.fit(X_train_cat, y_train.values.flatten())\n",
    "    pred = knn.predict(X_test_cat, k)\n",
    "    score = np.sqrt(((pred - y_test.values.flatten()) ** 2).mean())\n",
    "    scores_cb[i] = score\n",
    "    if score < max_score:\n",
    "        best_k = k\n",
    "        max_score = score\n",
    "print(f'best results: k = {best_k}, best RMSE = {max_score}')"
   ],
   "metadata": {
    "collapsed": false,
    "pycharm": {
     "name": "#%%\n"
    }
   }
  },
  {
   "cell_type": "markdown",
   "source": [
    "График Bag of words(cosine)"
   ],
   "metadata": {
    "collapsed": false
   }
  },
  {
   "cell_type": "code",
   "execution_count": 96,
   "outputs": [
    {
     "data": {
      "text/plain": "Text(0.5, 1.0, 'График зависимости RMSE для Bag of words with cosine metric')"
     },
     "execution_count": 96,
     "metadata": {},
     "output_type": "execute_result"
    },
    {
     "data": {
      "text/plain": "<Figure size 432x288 with 1 Axes>",
      "image/png": "[encoded data removed]"
     },
     "metadata": {
      "needs_background": "light"
     },
     "output_type": "display_data"
    }
   ],
   "source": [
    "plt.plot(k_range, scores_cb)\n",
    "plt.grid()\n",
    "plt.xticks(k_range)\n",
    "plt.xlabel('Количество соседей')\n",
    "plt.ylabel('RMSE')\n",
    "plt.title('График зависимости RMSE для Bag of words with cosine metric')\n"
   ],
   "metadata": {
    "collapsed": false,
    "pycharm": {
     "name": "#%%\n"
    }
   }
  },
  {
   "cell_type": "markdown",
   "source": [
    "TF-IDF"
   ],
   "metadata": {
    "collapsed": false
   }
  },
  {
   "cell_type": "markdown",
   "source": [
    "Подготовка мешка слов"
   ],
   "metadata": {
    "collapsed": false
   }
  },
  {
   "cell_type": "code",
   "execution_count": 97,
   "outputs": [],
   "source": [
    "from sklearn.feature_extraction.text import TfidfVectorizer\n",
    "\n",
    "X_train_cat = X_train[['neighbourhood_group', 'neighbourhood', 'room_type']]\n",
    "X_test_cat = X_test[['neighbourhood_group', 'neighbourhood', 'room_type']]\n",
    "\n",
    "f = TfidfVectorizer(stop_words='english')\n",
    "f1_train = f.fit_transform(np.array(X_train_cat['neighbourhood_group'])).toarray()\n",
    "f1_test = f.transform(np.array(X_test_cat['neighbourhood_group'])).toarray()\n",
    "f2_train = f.fit_transform(np.array(X_train_cat['neighbourhood'])).toarray()\n",
    "f2_test = f.transform(np.array(X_test_cat['neighbourhood'])).toarray()\n",
    "f3_train = f.fit_transform(np.array(X_train_cat['room_type'])).toarray()\n",
    "f3_test = f.transform(np.array(X_test_cat['room_type'])).toarray()\n",
    "bw_train = np.concatenate((f1_train, f2_train, f3_train), axis=1)\n",
    "bw_test = np.concatenate((f1_test, f2_test, f3_test), axis=1)"
   ],
   "metadata": {
    "collapsed": false,
    "pycharm": {
     "name": "#%%\n"
    }
   }
  },
  {
   "cell_type": "markdown",
   "source": [
    "RMSE by euclidian for TF-IDF"
   ],
   "metadata": {
    "collapsed": false
   }
  },
  {
   "cell_type": "code",
   "execution_count": 98,
   "outputs": [
    {
     "name": "stdout",
     "output_type": "stream",
     "text": [
      "best results: k = 96, best RMSE = 206.9809376985742\n"
     ]
    }
   ],
   "source": [
    "k_range = np.arange(1, 100, 5)\n",
    "\n",
    "norm = Normalizer()\n",
    "norm.fit(bw_train)\n",
    "X_train_cat = norm.transform(bw_train)\n",
    "X_test_cat = norm.transform(bw_test)\n",
    "best_k = -1\n",
    "max_score = 10000\n",
    "scores = np.arange(1, 100, 5)\n",
    "for i, k in enumerate(k_range):\n",
    "    knn = KNNRegressor(k, mode='uniform', metric='euclidean')\n",
    "    knn.fit(X_train_cat, y_train.values.flatten())\n",
    "    pred = knn.predict(X_test_cat, k)\n",
    "    score = np.sqrt(((pred - y_test.values.flatten()) ** 2).mean())\n",
    "    scores[i] = score\n",
    "    if score < max_score:\n",
    "        best_k = k\n",
    "        max_score = score\n",
    "print(f'best results: k = {best_k}, best RMSE = {max_score}')"
   ],
   "metadata": {
    "collapsed": false,
    "pycharm": {
     "name": "#%%\n"
    }
   }
  },
  {
   "cell_type": "markdown",
   "source": [
    "График TF-IDF(euclidian)"
   ],
   "metadata": {
    "collapsed": false
   }
  },
  {
   "cell_type": "code",
   "execution_count": 101,
   "outputs": [
    {
     "data": {
      "text/plain": "Text(0.5, 1.0, 'График зависимости RMSE для TF-IDF with euclidean metric')"
     },
     "execution_count": 101,
     "metadata": {},
     "output_type": "execute_result"
    },
    {
     "data": {
      "text/plain": "<Figure size 432x288 with 1 Axes>",
      "image/png": "[encoded data removed]"
     },
     "metadata": {
      "needs_background": "light"
     },
     "output_type": "display_data"
    }
   ],
   "source": [
    "import matplotlib.pyplot as plt\n",
    "plt.plot(k_range, scores)\n",
    "plt.grid()\n",
    "plt.xticks(k_range)\n",
    "plt.xlabel('Количество соседей')\n",
    "plt.ylabel('RMSE')\n",
    "plt.title('График зависимости RMSE для TF-IDF with euclidean metric')"
   ],
   "metadata": {
    "collapsed": false,
    "pycharm": {
     "name": "#%%\n"
    }
   }
  },
  {
   "cell_type": "markdown",
   "source": [
    "RMSE by cosine TF-IDF"
   ],
   "metadata": {
    "collapsed": false
   }
  },
  {
   "cell_type": "code",
   "execution_count": 99,
   "outputs": [
    {
     "name": "stdout",
     "output_type": "stream",
     "text": [
      "best results: k = 91, best RMSE = 207.38279233990082\n"
     ]
    }
   ],
   "source": [
    "# k_range = np.arange(1, 100, 5)\n",
    "# norm = Normalizer()\n",
    "# norm.fit(bw_train)\n",
    "# X_train_cat = norm.transform(bw_train)\n",
    "# X_test_cat = norm.transform(bw_test)\n",
    "best_k = -1\n",
    "max_score = 10000\n",
    "scores_cb = np.arange(1, 100, 5)\n",
    "for i, k in enumerate(k_range):\n",
    "    knn = KNNRegressor(k, mode='uniform', metric='cosine')\n",
    "    knn.fit(X_train_cat, y_train.values.flatten())\n",
    "    pred = knn.predict(X_test_cat, k)\n",
    "    score = np.sqrt(((pred - y_test.values.flatten()) ** 2).mean())\n",
    "    scores_cb[i] = score\n",
    "    if score < max_score:\n",
    "        best_k = k\n",
    "        max_score = score\n",
    "print(f'best results: k = {best_k}, best RMSE = {max_score}')"
   ],
   "metadata": {
    "collapsed": false,
    "pycharm": {
     "name": "#%%\n"
    }
   }
  },
  {
   "cell_type": "markdown",
   "source": [
    "График Bag of words(cosine)"
   ],
   "metadata": {
    "collapsed": false
   }
  },
  {
   "cell_type": "code",
   "execution_count": 100,
   "outputs": [
    {
     "data": {
      "text/plain": "Text(0.5, 1.0, 'График зависимости RMSE для TF-IDF with cosine metric')"
     },
     "execution_count": 100,
     "metadata": {},
     "output_type": "execute_result"
    },
    {
     "data": {
      "text/plain": "<Figure size 432x288 with 1 Axes>",
      "image/png": "[encoded data removed]"
     },
     "metadata": {
      "needs_background": "light"
     },
     "output_type": "display_data"
    }
   ],
   "source": [
    "plt.plot(k_range, scores_cb)\n",
    "plt.grid()\n",
    "plt.xticks(k_range)\n",
    "plt.xlabel('Количество соседей')\n",
    "plt.ylabel('RMSE')\n",
    "plt.title('График зависимости RMSE для TF-IDF with cosine metric')"
   ],
   "metadata": {
    "collapsed": false,
    "pycharm": {
     "name": "#%%\n"
    }
   }
  },
  {
   "cell_type": "markdown",
   "source": [
    "При учитывании большого числа соседей, оба метода при использовании 2 метрик показывают примерно\n",
    "одинаковые результаты. Однако при учитывании < 20 соседей Мешок со словами для евкидовой метрики\n",
    "показывает лучший результат."
   ],
   "metadata": {
    "collapsed": false,
    "pycharm": {
     "name": "#%% md\n"
    }
   }
  },
  {
   "cell_type": "markdown",
   "metadata": {},
   "source": [
    "<b>3.2 (1 балл)</b> Используя все доступные признаки, решите задачу регрессии. Для категориальных и текстовых признаков выберите лучшие преобразования (из сделанных раннее заданий). Повлияло ли добавление количественного признака на метрику качества?"
   ]
  },
  {
   "cell_type": "code",
   "execution_count": 40,
   "metadata": {},
   "outputs": [
    {
     "data": {
      "text/plain": "       latitude  longitude  minimum_nights  reviews_per_month  \\\n39319  40.63628  -73.96970               2               3.67   \n22796  40.73401  -73.98140               2               0.58   \n26190  40.74722  -73.91860               2               0.91   \n8161   40.77357  -73.95193               1               0.00   \n32473  40.72714  -73.98215               2               2.74   \n\n       calculated_host_listings_count  target  \n39319                               3       0  \n22796                               1       1  \n26190                               4       0  \n8161                                1       1  \n32473                               1       1  ",
      "text/html": "<div>\n<style scoped>\n    .dataframe tbody tr th:only-of-type {\n        vertical-align: middle;\n    }\n\n    .dataframe tbody tr th {\n        vertical-align: top;\n    }\n\n    .dataframe thead th {\n        text-align: right;\n    }\n</style>\n<table border=\"1\" class=\"dataframe\">\n  <thead>\n    <tr style=\"text-align: right;\">\n      <th></th>\n      <th>latitude</th>\n      <th>longitude</th>\n      <th>minimum_nights</th>\n      <th>reviews_per_month</th>\n      <th>calculated_host_listings_count</th>\n      <th>target</th>\n    </tr>\n  </thead>\n  <tbody>\n    <tr>\n      <th>39319</th>\n      <td>40.63628</td>\n      <td>-73.96970</td>\n      <td>2</td>\n      <td>3.67</td>\n      <td>3</td>\n      <td>0</td>\n    </tr>\n    <tr>\n      <th>22796</th>\n      <td>40.73401</td>\n      <td>-73.98140</td>\n      <td>2</td>\n      <td>0.58</td>\n      <td>1</td>\n      <td>1</td>\n    </tr>\n    <tr>\n      <th>26190</th>\n      <td>40.74722</td>\n      <td>-73.91860</td>\n      <td>2</td>\n      <td>0.91</td>\n      <td>4</td>\n      <td>0</td>\n    </tr>\n    <tr>\n      <th>8161</th>\n      <td>40.77357</td>\n      <td>-73.95193</td>\n      <td>1</td>\n      <td>0.00</td>\n      <td>1</td>\n      <td>1</td>\n    </tr>\n    <tr>\n      <th>32473</th>\n      <td>40.72714</td>\n      <td>-73.98215</td>\n      <td>2</td>\n      <td>2.74</td>\n      <td>1</td>\n      <td>1</td>\n    </tr>\n  </tbody>\n</table>\n</div>"
     },
     "execution_count": 40,
     "metadata": {},
     "output_type": "execute_result"
    }
   ],
   "source": [
    "train = X_train.iloc[:, 4:]\n",
    "train.drop(columns=['number_of_reviews', 'availability_365', 'last_review', 'neighbourhood_group', 'neighbourhood', 'room_type'], inplace=True)\n",
    "train = train.fillna(0)\n",
    "train.head()"
   ]
  },
  {
   "cell_type": "markdown",
   "source": [
    "Применим мешок со словами на евкидовой метрики, как самый оптимальный вариант"
   ],
   "metadata": {
    "collapsed": false,
    "pycharm": {
     "name": "#%% md\n"
    }
   }
  },
  {
   "cell_type": "code",
   "execution_count": 43,
   "outputs": [],
   "source": [
    "from sklearn.feature_extraction.text import CountVectorizer\n",
    "\n",
    "X_train_cat = X_train[['neighbourhood_group', 'neighbourhood', 'room_type']]\n",
    "X_test_cat = X_test[['neighbourhood_group', 'neighbourhood', 'room_type']]\n",
    "\n",
    "f = CountVectorizer(stop_words='english')\n",
    "f1_train = f.fit_transform(np.array(X_train_cat['neighbourhood_group'])).toarray()\n",
    "f1_test = f.transform(np.array(X_test_cat['neighbourhood_group'])).toarray()\n",
    "f2_train = f.fit_transform(np.array(X_train_cat['neighbourhood'])).toarray()\n",
    "f2_test = f.transform(np.array(X_test_cat['neighbourhood'])).toarray()\n",
    "f3_train = f.fit_transform(np.array(X_train_cat['room_type'])).toarray()\n",
    "f3_test = f.transform(np.array(X_test_cat['room_type'])).toarray()\n",
    "bw_train = np.concatenate((f1_train, f2_train, f3_train), axis=1)\n",
    "bw_test = np.concatenate((f1_test, f2_test, f3_test), axis=1)\n",
    "\n",
    "resulting_train = np.concatenate((train.values, bw_train), axis=1)\n",
    "test = X_test.iloc[:, 4:]\n",
    "test.drop(columns=['number_of_reviews', 'availability_365', 'last_review', 'neighbourhood_group', 'neighbourhood', 'room_type'], inplace=True)\n",
    "test = test.fillna(0)\n",
    "resulting_test = np.concatenate((test.values, bw_test), axis=1)"
   ],
   "metadata": {
    "collapsed": false,
    "pycharm": {
     "name": "#%%\n"
    }
   }
  },
  {
   "cell_type": "markdown",
   "source": [
    "Решим задачу регрессии"
   ],
   "metadata": {
    "collapsed": false,
    "pycharm": {
     "name": "#%% md\n"
    }
   }
  },
  {
   "cell_type": "code",
   "execution_count": 45,
   "outputs": [
    {
     "data": {
      "text/plain": "196"
     },
     "execution_count": 45,
     "metadata": {},
     "output_type": "execute_result"
    }
   ],
   "source": [
    "nrm = Normalizer()\n",
    "nrm.fit(resulting_train)\n",
    "final_train = nrm.transform(resulting_train)\n",
    "final_test = nrm.transform(resulting_test)\n",
    "\n",
    "scores = np.arange(1, 100, 5)\n",
    "\n",
    "for i, k in enumerate(scores):\n",
    "    mdl = KNNRegressor(k, mode='uniform', metric='euclidean')\n",
    "    mdl.fit(final_train, y_train.values.flatten())\n",
    "    pred = mdl.predict(final_test, k)\n",
    "    score = np.sqrt(((pred - y_test.values.flatten()) ** 2).mean())\n",
    "    scores[i] = score\n",
    "np.min(scores)"
   ],
   "metadata": {
    "collapsed": false,
    "pycharm": {
     "name": "#%%\n"
    }
   }
  },
  {
   "cell_type": "code",
   "source": [
    "import matplotlib.pyplot as plt\n",
    "k_range = np.arange(1, 100, 5)\n",
    "plt.plot(k_range, scores)\n",
    "plt.grid()\n",
    "plt.xticks(k_range)\n",
    "plt.xlabel('Количество соседей')\n",
    "plt.ylabel('RMSE')\n",
    "plt.title('График зависимости RMSE для задачи регрессии')"
   ],
   "metadata": {
    "collapsed": false,
    "pycharm": {
     "name": "#%%\n"
    }
   },
   "execution_count": 47,
   "outputs": [
    {
     "data": {
      "text/plain": "Text(0.5, 1.0, 'График зависимости RMSE для задачи регрессии')"
     },
     "execution_count": 47,
     "metadata": {},
     "output_type": "execute_result"
    },
    {
     "data": {
      "text/plain": "<Figure size 432x288 with 1 Axes>",
      "image/png": "[encoded data removed]"
     },
     "metadata": {
      "needs_background": "light"
     },
     "output_type": "display_data"
    }
   ]
  },
  {
   "cell_type": "markdown",
   "source": [
    "Добавив количественные признаки я получил минимальный RMSE = 196, что действительно лучше, чем на предыдущих опытах."
   ],
   "metadata": {
    "collapsed": false,
    "pycharm": {
     "name": "#%% md\n"
    }
   }
  },
  {
   "cell_type": "markdown",
   "metadata": {},
   "source": [
    "## Часть 4: Выводы\n"
   ]
  },
  {
   "cell_type": "markdown",
   "metadata": {
    "pycharm": {
     "name": "#%% md\n"
    }
   },
   "source": [
    "В этом задании я научился на практике применять метод решения задачи регрессии\n",
    "на основе метода ближайших соседей. Реализовал алгоритм kNN для задачи регрессии.\n",
    "Изучил методы работы с категориальными и текстовыми переменными.\n",
    "При решении задачи с использованием только категориальных признаков лучшая достигнутая точность получилась RMSE=207.55.\n",
    "При использовании только текстового признака минимальная RMSE=206.63.\n",
    "Текст при этом закодирован методом Мешка слов и использована евклидова метрика.\n",
    "При решении задачи со всеми признаками, включая числовые, ошибка уменьшается до 196,\n",
    "то есть использование всех признаков повышет качество работы.\n",
    "Выполненные эксперименты показывают, что для решения задачи регрессии алгоритмом ближайших соседей важно\n",
    "оптимально настроить гипермапаметры: функцию расстояния между объектами, число ближайших соседей,\n",
    "выбрать преобразованиия для признаков. Сложность заключается в том, что для разных типов признаков,\n",
    "как-то: категориальные, текстовые, числовые, лучшая метрика и число соседей могут не совпадать,\n",
    "что показывает последний эксперимент с подбором количества соседей. Оптимальным стал результат в 20 соседей, хотя\n",
    "в предыдущих эксперементах был > 80."
   ]
  }
 ],
 "metadata": {
  "kernelspec": {
   "display_name": "Python 3",
   "language": "python",
   "name": "python3"
  },
  "language_info": {
   "codemirror_mode": {
    "name": "ipython",
    "version": 3
   },
   "file_extension": ".py",
   "mimetype": "text/x-python",
   "name": "python",
   "nbconvert_exporter": "python",
   "pygments_lexer": "ipython3",
   "version": "3.8.5"
  }
 },
 "nbformat": 4,
 "nbformat_minor": 1
}