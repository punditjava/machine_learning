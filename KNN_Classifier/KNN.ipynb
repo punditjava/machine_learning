{
 "cells": [
  {
   "cell_type": "code",
   "execution_count": 1,
   "metadata": {
    "collapsed": true
   },
   "outputs": [],
   "source": [
    "import numpy as np\n",
    "import sklearn\n",
    "from scipy.ndimage import rotate, interpolation, gaussian_filter\n",
    "from sklearn.datasets import fetch_openml\n",
    "from sklearn.neighbors import NearestNeighbors\n",
    "import matplotlib.pyplot as plt\n",
    "import time"
   ]
  },
  {
   "cell_type": "code",
   "execution_count": 4,
   "outputs": [],
   "source": [
    "# функции расстояния\n",
    "def euclidean_distance(X, Y):\n",
    "    return np.sqrt(\n",
    "            np.sum(X**2, axis=1)[:, np.newaxis] +\n",
    "            np.sum(Y**2, axis=1) - 2 * X.dot(Y.T)\n",
    "            )\n",
    "\n",
    "\n",
    "def cosine_distance(X, Y):\n",
    "    dotted = X.dot(Y.T)\n",
    "    matrix_norms = np.linalg.norm(X, axis=1)\n",
    "    vector_norm = np.linalg.norm(Y, axis=1)\n",
    "    matrix_vector_norms = np.outer(matrix_norms, vector_norm)\n",
    "    neighbors = 1.0 - np.divide(dotted, matrix_vector_norms)\n",
    "    return neighbors\n"
   ],
   "metadata": {
    "collapsed": false,
    "pycharm": {
     "name": "#%%\n"
    }
   }
  },
  {
   "cell_type": "code",
   "execution_count": 5,
   "outputs": [],
   "source": [
    "# класс KNN\n",
    "class KNNClassifier:\n",
    "    def __init__(self, k, strategy, metric, weights, test_block_size):\n",
    "        self.metric = metric\n",
    "        if self.metric not in ['euclidean', 'cosine']:\n",
    "            raise TypeError(self.metric + ' not euclidean or cosine')\n",
    "        self.k = k\n",
    "        self.weights = weights\n",
    "        if strategy in ['brute', 'kd_tree', 'ball_tree']:\n",
    "            self.strategy = sklearn.neighbors.NearestNeighbors(\n",
    "                algorithm=strategy, metric=self.metric)\n",
    "        elif strategy == 'my_own':\n",
    "            self.strategy = strategy\n",
    "        else:\n",
    "            raise TypeError(strategy + ' unacceptable')\n",
    "        self.test_block_size = test_block_size\n",
    "\n",
    "    def fit(self, X, y):\n",
    "        self.X_train = X\n",
    "        self.y_train = y\n",
    "        if self.strategy != 'my_own':\n",
    "            self.strategy.fit(X, y)\n",
    "\n",
    "    def find_kneighbors(self, X, return_distance):\n",
    "        iter_num = np.size(X, 0) // self.test_block_size\n",
    "        if np.size(X, 0) % self.test_block_size:\n",
    "            iter_num += 1\n",
    "        ind_list = list()\n",
    "        if return_distance:\n",
    "            dist_list = list()\n",
    "        for i in range(iter_num):\n",
    "            ind_beg = self.test_block_size * i\n",
    "            ind_end = self.test_block_size * (i + 1)\n",
    "            if self.strategy == 'my_own':\n",
    "                if self.metric == 'euclidean':\n",
    "                    distance_func = euclidean_distance\n",
    "                elif self.metric == 'cosine':\n",
    "                    distance_func = cosine_distance\n",
    "                distance_matrix = distance_func(X[ind_beg:ind_end], self.X_train)\n",
    "                k_ind_matrix = np.argsort(distance_matrix, axis=1)[:, :self.k]\n",
    "                ind_list.append(k_ind_matrix)\n",
    "                if return_distance:\n",
    "                    dist_list.append(distance_matrix[\n",
    "                                         np.arange(np.size(k_ind_matrix, 0))[:, np.newaxis],\n",
    "                                         k_ind_matrix])\n",
    "            else:\n",
    "                if return_distance:\n",
    "                    dist, ind = self.strategy.kneighbors(\n",
    "                        X[ind_beg:ind_end], n_neighbors=self.k,\n",
    "                        return_distance=return_distance)\n",
    "                    dist_list.append(dist)\n",
    "                    ind_list.append(ind)\n",
    "                else:\n",
    "                    ind_list.append(\n",
    "                        self.strategy.kneighbors(\n",
    "                            X[ind_beg:ind_end], n_neighbors=self.k,\n",
    "                            return_distance=return_distance))\n",
    "        if return_distance:\n",
    "            return np.concatenate(dist_list), np.concatenate(ind_list)\n",
    "        else:\n",
    "            return np.concatenate(ind_list)\n",
    "\n",
    "    def predict(self, X):\n",
    "        if self.weights:\n",
    "            dist, ind = self.find_kneighbors(X, return_distance=True)\n",
    "\n",
    "            el_weights = 1 / (dist + 10 ** -5)\n",
    "\n",
    "            res = []\n",
    "            for i in range(ind.shape[0]):\n",
    "                indeces = ind[i]\n",
    "                w = el_weights[i]\n",
    "                ind_list = []\n",
    "                for index in indeces:\n",
    "                    ind_list.append(self.y_train[index])\n",
    "                counts = np.bincount(ind_list, weights=w)\n",
    "                y = np.argmax(counts)\n",
    "                res.append(y)\n",
    "        else:\n",
    "            ind = self.find_kneighbors(X, return_distance=False)\n",
    "            res = []\n",
    "            for indeces in ind:\n",
    "                counts = np.bincount(indeces)\n",
    "                y = np.argmax(counts)\n",
    "                res.append(y)\n",
    "        return np.array(res)"
   ],
   "metadata": {
    "collapsed": false,
    "pycharm": {
     "name": "#%%\n"
    }
   }
  },
  {
   "cell_type": "code",
   "execution_count": 6,
   "outputs": [],
   "source": [
    "# cross validation\n",
    "\n",
    "def kfold(n, n_folds=3):\n",
    "    all_idx = range(n)\n",
    "    folds = np.array_split(all_idx, n_folds)\n",
    "    res = []\n",
    "    for k in range(n_folds):\n",
    "        if k == 0:\n",
    "            edu = np.hstack(folds[k + 1:])\n",
    "        elif k == n_folds - 1:\n",
    "            edu = np.hstack(folds[:k])\n",
    "        else:\n",
    "            edu = np.hstack((np.hstack(folds[:k]), np.hstack(folds[k + 1:])))\n",
    "        val = folds[k]\n",
    "        res.append((edu, val))\n",
    "    return res\n",
    "\n",
    "\n",
    "def knn_cross_val_score(X, y, k_list, cv, **kwargs):\n",
    "    acc = {}\n",
    "    for key in k_list:\n",
    "        acc[key] = np.array([])\n",
    "    a = KNNClassifier(k=max(k_list), **kwargs)\n",
    "    if cv == None:\n",
    "        cv = kfold(X.shape[0], 3)\n",
    "    for m, i in enumerate(cv):\n",
    "        a.fit(X[i[0]], y[i[0]])\n",
    "        dist, kneighbors = a.find_kneighbors(X[i[1]], True)\n",
    "        for j, k in enumerate(k_list):\n",
    "            ans = []\n",
    "            dist_k = dist[:, :k]\n",
    "            kneighbors_k = kneighbors[:, :k]\n",
    "            for ind, l in enumerate(kneighbors_k):\n",
    "                if a.weights:\n",
    "                    count_el = np.bincount(y[i[0]][l].astype('int64'),\n",
    "                                           weights=1 / (dist_k[ind] + 0.00001))\n",
    "                else:\n",
    "                    count_el = np.bincount(y[i[0]][l].astype('int64'))\n",
    "                ans.append(str(count_el.argmax()))\n",
    "            acc[k] = np.append(acc[k],\n",
    "                               (np.array(ans).astype('int64') ==\n",
    "                                np.array(y[i[1]]).astype('int64')).sum() / len(i[1]))\n",
    "    return acc\n",
    "\n",
    "def knn_cross_val_predict(knn_classifier, num_of_classes, kneighbors):\n",
    "    if isinstance(kneighbors, tuple):\n",
    "        dist = kneighbors[0]\n",
    "        eps = 1e-5\n",
    "        weights = 1 / (dist + eps)\n",
    "        classes_of_neigh = knn_classifier.y_train[kneighbors[1]]\n",
    "        wieghts_of_neigh = np.empty((kneighbors[0].shape[0], num_of_classes), order='F')\n",
    "        for i in range(num_of_classes):\n",
    "            mask_of_a_class = classes_of_neigh == i\n",
    "            wieghts_of_neigh[:, i] = np.sum(weights * mask_of_a_class, axis=1)\n",
    "        y = np.argmax(wieghts_of_neigh, axis=1)\n",
    "    else:\n",
    "        classes_of_neigh = knn_classifier.y_train[kneighbors]\n",
    "        frequencies_of_classes = np.apply_along_axis(func1d=np.bincount,\n",
    "                                                     axis=1,\n",
    "                                                     arr=classes_of_neigh,\n",
    "                                                     minlength=num_of_classes)\n",
    "        y = np.argmax(frequencies_of_classes, axis=1)\n",
    "    return y"
   ],
   "metadata": {
    "collapsed": false,
    "pycharm": {
     "name": "#%%\n"
    }
   }
  },
  {
   "cell_type": "markdown",
   "source": [
    "Тесты будут проходить с использованием dataset рукопистный цифр fetch_mldata\n"
   ],
   "metadata": {
    "collapsed": false
   }
  },
  {
   "cell_type": "code",
   "execution_count": 2,
   "outputs": [],
   "source": [
    "mnist = fetch_openml('mnist_784')\n",
    "X = mnist.data\n",
    "y = mnist.target.astype('int64')\n",
    "X_train = X[:60000]\n",
    "X_test = X[60000:]\n",
    "y_train = y[:60000]\n",
    "y_test = y[60000:]\n"
   ],
   "metadata": {
    "collapsed": false,
    "pycharm": {
     "name": "#%%\n"
    }
   }
  },
  {
   "cell_type": "markdown",
   "source": [
    "Тест №1\n",
    "Сравнение времени работы алгоритмов на разных подмножествах признаков"
   ],
   "metadata": {
    "collapsed": false
   }
  },
  {
   "cell_type": "code",
   "execution_count": null,
   "outputs": [],
   "source": [
    "k = 5\n",
    "# подмножества\n",
    "feature_ind = np.arange(np.size(X, 0))\n",
    "ind_10 = feature_ind[:10]\n",
    "ind_20 = feature_ind[:20]\n",
    "ind_100 = feature_ind[:100]\n",
    "ind_list = [ind_10, ind_20 , ind_100]\n",
    "# подсчет времени\n",
    "times = {}\n",
    "strategies = ['my_own', 'brute', 'kd_tree', 'ball_tree']\n",
    "for st in strategies:\n",
    "    knn = KNNClassifier(k, st, metric='euclidean', weights=False, test_block_size=1000)\n",
    "    times[st] = []\n",
    "    for ind in ind_list:\n",
    "        knn.fit(X_train[:, ind], y_train)\n",
    "        start = time.time()\n",
    "        knn.find_kneighbors(X_test[:, ind], False)\n",
    "        times[st].append(time.time() - start)"
   ],
   "metadata": {
    "collapsed": false,
    "pycharm": {
     "name": "#%%\n"
    }
   }
  },
  {
   "cell_type": "code",
   "execution_count": 26,
   "outputs": [
    {
     "data": {
      "text/plain": "{'my_own': [33.25883889198303, 33.13347411155701, 39.28713059425354],\n 'brute': [12.846462488174438, 12.201679229736328, 13.470950841903687],\n 'kd_tree': [12.385839462280273, 19.841198682785034, 99.530029296875],\n 'ball_tree': [9.141163349151611, 15.503875017166138, 81.69175219535828]}"
     },
     "execution_count": 26,
     "metadata": {},
     "output_type": "execute_result"
    }
   ],
   "source": [
    "times"
   ],
   "metadata": {
    "collapsed": false,
    "pycharm": {
     "name": "#%%\n"
    }
   }
  },
  {
   "cell_type": "markdown",
   "source": [
    "График для сравнения времени от features & strategies"
   ],
   "metadata": {
    "collapsed": false
   }
  },
  {
   "cell_type": "code",
   "execution_count": 27,
   "outputs": [
    {
     "data": {
      "text/plain": "<Figure size 432x288 with 1 Axes>",
      "image/png": "[encoded data removed]"
     },
     "metadata": {
      "needs_background": "light"
     },
     "output_type": "display_data"
    }
   ],
   "source": [
    "fig, ax = plt.subplots()\n",
    "index = np.array([1, 2, 3])\n",
    "bar_width = 0.1\n",
    "\n",
    "rects1 = ax.bar(index, times['my_own'], bar_width, color='r', label='my_own')\n",
    "rects2 = ax.bar(index + bar_width, times['kd_tree'], bar_width, color='orange', label='kd_tree')\n",
    "rects3 = ax.bar(index + 2 * bar_width, times['ball_tree'], bar_width, color='violet', label='ball_tree')\n",
    "rects4 = ax.bar(index + 3 * bar_width, times['brute'], bar_width, color='green', label='brute')\n",
    "ax.set_xticks(index + bar_width * 1.5)\n",
    "ax.set_xticklabels((10, 20, 100))\n",
    "ax.set_xlabel('Количество признаков')\n",
    "ax.set_yticks(np.arange(10, 150, 10))\n",
    "ax.set_ylabel('Время, с')\n",
    "ax.set_title('Гистограмма сравнения времени от features & strategies')\n",
    "ax.legend()\n",
    "fig.savefig('gist_1.pdf')"
   ],
   "metadata": {
    "collapsed": false,
    "pycharm": {
     "name": "#%%\n"
    }
   }
  },
  {
   "cell_type": "code",
   "execution_count": 32,
   "outputs": [
    {
     "data": {
      "text/plain": "<Figure size 432x288 with 1 Axes>",
      "image/png": "[encoded data removed]"
     },
     "metadata": {
      "needs_background": "light"
     },
     "output_type": "display_data"
    }
   ],
   "source": [
    "features = [10, 20, 100]\n",
    "f, ax = plt.subplots()\n",
    "ax.plot(index, times['my_own'], label=\"my_own\", color='red', linewidth=5)\n",
    "ax.plot(index, times['kd_tree'], label=\"kd_tree\",color='orange', linewidth=5)\n",
    "ax.plot(index, times['ball_tree'], label=\"ball_tree\",color='violet', linewidth=5)\n",
    "ax.plot(index, times['brute'], label=\"brute\", color='green', linewidth=5)\n",
    "ax.set_xticks(index)\n",
    "ax.set_xticklabels((10, 20, 100))\n",
    "ax.set_xlabel('Количество признаков')\n",
    "ax.set_yticks(np.arange(10, 150, 10))\n",
    "ax.set_ylabel('Время, с')\n",
    "ax.set_title('График сравнения времени от features & strategies')\n",
    "ax.legend()\n",
    "ax.grid()\n",
    "f.savefig(\"lines_1.pdf\")"
   ],
   "metadata": {
    "collapsed": false,
    "pycharm": {
     "name": "#%%\n"
    }
   }
  },
  {
   "cell_type": "markdown",
   "source": [
    "Тест №2. Оценить по кросс-валидации с 3 фолдами точность и время работы KNN"
   ],
   "metadata": {
    "collapsed": false,
    "pycharm": {
     "name": "#%% md\n"
    }
   }
  },
  {
   "cell_type": "markdown",
   "source": [
    "2.а - влияние k(от 1 до 10)"
   ],
   "metadata": {
    "collapsed": false
   }
  },
  {
   "cell_type": "code",
   "execution_count": 29,
   "outputs": [
    {
     "name": "stdout",
     "output_type": "stream",
     "text": [
      "{1: array([0.96961515, 0.96725668, 0.96674238]), 2: array([0.96258678, 0.96138516, 0.96211374]), 3: array([0.96991515, 0.96819955, 0.9682424 ]), 4: array([0.9685009 , 0.9657138 , 0.96742811]), 5: array([0.96845804, 0.9660138 , 0.96759954]), 6: array([0.96807234, 0.96459949, 0.96652809]), 7: array([0.9681152 , 0.96524236, 0.9668281 ]), 8: array([0.96670095, 0.9640852 , 0.96622809]), 9: array([0.96614382, 0.96262804, 0.96567094]), 10: array([0.96541527, 0.9626709 , 0.96554236])}\n"
     ]
    }
   ],
   "source": [
    "k_list = [i for i in range(1, 11)]\n",
    "arg_dict = dict()\n",
    "arg_dict['strategy'] = 'brute'\n",
    "arg_dict['metric'] = 'euclidean'\n",
    "arg_dict['weights'] = False\n",
    "arg_dict['test_block_size'] = 1000\n",
    "result_dict = knn_cross_val_score(X, y, k_list, score='accuracy', cv=None, **arg_dict)\n",
    "print(result_dict)"
   ],
   "metadata": {
    "collapsed": false,
    "pycharm": {
     "name": "#%%\n"
    }
   }
  },
  {
   "cell_type": "code",
   "execution_count": 31,
   "outputs": [
    {
     "data": {
      "text/plain": "<Figure size 432x288 with 1 Axes>",
      "image/png": "[encoded data removed]"
     },
     "metadata": {
      "needs_background": "light"
     },
     "output_type": "display_data"
    }
   ],
   "source": [
    "result_dict = {1: np.array([0.96961515, 0.96725668, 0.96674238]), 2: array([0.96258678, 0.96138516, 0.96211374]), 3: array([0.96991515, 0.96819955, 0.9682424 ]), 4: array([0.9685009 , 0.9657138 , 0.96742811]), 5: array([0.96845804, 0.9660138 , 0.96759954]), 6: array([0.96807234, 0.96459949, 0.96652809]), 7: array([0.9681152 , 0.96524236, 0.9668281 ]), 8: array([0.96670095, 0.9640852 , 0.96622809]), 9: array([0.96614382, 0.96262804, 0.96567094]), 10: array([0.96541527, 0.9626709 , 0.96554236])}\n",
    "\n",
    "# график для k\n",
    "copy_result_dict = result_dict.copy()\n",
    "for key in copy_result_dict:\n",
    "    copy_result_dict[key] = copy_result_dict[key].mean()\n",
    "k_arr = np.arange(1, 11)\n",
    "acc_list = list()\n",
    "for k in k_arr:\n",
    "    acc_list.append(copy_result_dict[k])\n",
    "acc_arr = np.array(acc_list)\n",
    "plt.plot(k_arr, acc_arr)\n",
    "plt.grid()\n",
    "plt.xticks(k_list)\n",
    "plt.xlabel('Количество соседей')\n",
    "plt.ylabel('Точность')\n",
    "plt.title('График зависимости точности от параметра')\n",
    "plt.savefig('k-accuracy(3).pdf')"
   ],
   "metadata": {
    "collapsed": false,
    "pycharm": {
     "name": "#%%\n"
    }
   }
  },
  {
   "cell_type": "markdown",
   "source": [
    "2.б - Сравнение метрик"
   ],
   "metadata": {
    "collapsed": false
   }
  },
  {
   "cell_type": "code",
   "execution_count": 16,
   "outputs": [],
   "source": [
    "start = time.time()\n",
    "scores_euc = knn_cross_val_score(X_train, y_train, k_list=list(range(1, 11)), cv=None, metric = 'euclidean', strategy='brute', weights=False, test_block_size=2000)\n",
    "scores_euc['time'] = time.time() -  start\n",
    "start = time.time()\n",
    "scores_cosine = knn_cross_val_score(X_train, y_train, k_list=list(range(1, 11)), cv=None, metric='cosine', strategy='brute', weights=False, test_block_size=2000)\n",
    "scores_cosine['time'] = time.time() -  start"
   ],
   "metadata": {
    "collapsed": false,
    "pycharm": {
     "name": "#%%\n"
    }
   }
  },
  {
   "cell_type": "code",
   "execution_count": 19,
   "outputs": [
    {
     "data": {
      "text/plain": "{1: array([0.96895, 0.96675, 0.9667 ]),\n 2: array([0.9603 , 0.95995, 0.96125]),\n 3: array([0.96955, 0.96825, 0.96715]),\n 4: array([0.96705, 0.9667 , 0.9671 ]),\n 5: array([0.9681, 0.9673, 0.9672]),\n 6: array([0.96555, 0.96495, 0.9657 ]),\n 7: array([0.9652, 0.965 , 0.9656]),\n 8: array([0.96415, 0.9639 , 0.96525]),\n 9: array([0.9637 , 0.9632 , 0.96455]),\n 10: array([0.96245, 0.9622 , 0.9637 ]),\n 'time': 172.29846096038818}"
     },
     "execution_count": 19,
     "metadata": {},
     "output_type": "execute_result"
    }
   ],
   "source": [
    "scores_euc"
   ],
   "metadata": {
    "collapsed": false,
    "pycharm": {
     "name": "#%%\n"
    }
   }
  },
  {
   "cell_type": "code",
   "execution_count": 20,
   "outputs": [
    {
     "data": {
      "text/plain": "{1: array([0.9733 , 0.9708 , 0.97045]),\n 2: array([0.96895, 0.9664 , 0.96775]),\n 3: array([0.97365, 0.97155, 0.9709 ]),\n 4: array([0.9725 , 0.97095, 0.9722 ]),\n 5: array([0.97275, 0.97015, 0.9716 ]),\n 6: array([0.97195, 0.9697 , 0.97215]),\n 7: array([0.97125, 0.96815, 0.97075]),\n 8: array([0.97125, 0.96835, 0.97155]),\n 9: array([0.97005, 0.967  , 0.9707 ]),\n 10: array([0.96935, 0.96615, 0.9707 ]),\n 'time': 198.21011996269226}"
     },
     "execution_count": 20,
     "metadata": {},
     "output_type": "execute_result"
    }
   ],
   "source": [
    "scores_cosine"
   ],
   "metadata": {
    "collapsed": false,
    "pycharm": {
     "name": "#%%\n"
    }
   }
  },
  {
   "cell_type": "code",
   "execution_count": 33,
   "outputs": [
    {
     "data": {
      "text/plain": "<Figure size 432x288 with 1 Axes>",
      "image/png": "[encoded data removed]"
     },
     "metadata": {
      "needs_background": "light"
     },
     "output_type": "display_data"
    }
   ],
   "source": [
    "# график\n",
    "scores_euc_dic = scores_euc.copy()\n",
    "scores_cosine_dic = scores_cosine.copy()\n",
    "for key in scores_euc_dic:\n",
    "    scores_euc_dic[key] = np.mean(scores_euc_dic[key])\n",
    "    scores_cosine_dic[key] = np.mean(scores_cosine_dic[key])\n",
    "k_arr = np.arange(1, 11)\n",
    "euc_list = list()\n",
    "cosine_list = list()\n",
    "for k in k_arr:\n",
    "    euc_list.append(scores_euc_dic[k])\n",
    "    cosine_list.append(scores_cosine_dic[k])\n",
    "\n",
    "euc_arr = np.array(euc_list)\n",
    "cosine_arr = np.array(cosine_list)\n",
    "plt.plot(k_arr, euc_arr, label='euclidean')\n",
    "plt.plot(k_arr, cosine_arr,label='cosine')\n",
    "plt.grid()\n",
    "plt.legend()\n",
    "plt.xticks(k_arr)\n",
    "plt.xlabel('Количество соседей')\n",
    "plt.ylabel('Точность')\n",
    "plt.title('Зависимость точности от выбранной метрики')\n",
    "plt.savefig('k-accuracy(4).pdf')\n"
   ],
   "metadata": {
    "collapsed": false,
    "pycharm": {
     "name": "#%%\n"
    }
   }
  },
  {
   "cell_type": "markdown",
   "source": [
    "Тест №3. Сравнить точность с использованием весов и без"
   ],
   "metadata": {
    "collapsed": false
   }
  },
  {
   "cell_type": "code",
   "execution_count": 34,
   "outputs": [],
   "source": [
    "start = time.time()\n",
    "scores_without_weights = knn_cross_val_score(X_train, y_train, k_list=list(range(1, 11)), cv=None, metric = 'cosine', strategy='brute', weights=False, test_block_size=2000)\n",
    "scores_without_weights['time'] = time.time() -  start\n",
    "start = time.time()\n",
    "scores_with_weights = knn_cross_val_score(X_train, y_train, k_list=list(range(1, 11)), cv=None, metric='cosine', strategy='brute', weights=True, test_block_size=2000)\n",
    "scores_with_weights['time'] = time.time() -  start\n"
   ],
   "metadata": {
    "collapsed": false,
    "pycharm": {
     "name": "#%%\n"
    }
   }
  },
  {
   "cell_type": "code",
   "execution_count": 2,
   "outputs": [],
   "source": [
    "scores_with_weights"
   ],
   "metadata": {
    "collapsed": false,
    "pycharm": {
     "name": "#%%\n"
    }
   }
  },
  {
   "cell_type": "code",
   "execution_count": 3,
   "outputs": [],
   "source": [
    "scores_without_weights"
   ],
   "metadata": {
    "collapsed": false,
    "pycharm": {
     "name": "#%%\n"
    }
   }
  },
  {
   "cell_type": "markdown",
   "source": [
    "График"
   ],
   "metadata": {
    "collapsed": false
   }
  },
  {
   "cell_type": "code",
   "execution_count": 5,
   "outputs": [
    {
     "data": {
      "text/plain": "<Figure size 432x288 with 1 Axes>",
      "image/png": "[encoded data removed]"
     },
     "metadata": {
      "needs_background": "light"
     },
     "output_type": "display_data"
    }
   ],
   "source": [
    "k_arr = np.arange(1, 11)\n",
    "scores_with_weights_dict = scores_with_weights.copy()\n",
    "scores_without_weights_dict = scores_without_weights.copy()\n",
    "for key in scores_with_weights_dict:\n",
    "    scores_with_weights_dict[key] = np.mean(scores_with_weights_dict[key])\n",
    "    scores_without_weights_dict[key] = np.mean(scores_without_weights_dict[key])\n",
    "with_list = list()\n",
    "without_list = list()\n",
    "for k in k_arr:\n",
    "    with_list.append(scores_with_weights_dict[k])\n",
    "    without_list.append(scores_without_weights_dict[k])\n",
    "\n",
    "with_arr = np.array(with_list)\n",
    "without_arr = np.array(without_list)\n",
    "plt.plot(k_arr, with_arr, color= '#6600ff' ,label='with weights')\n",
    "plt.plot(k_arr, without_arr, color='brown',label='without weights')\n",
    "plt.grid()\n",
    "plt.legend()\n",
    "plt.xticks(k_arr)\n",
    "plt.xlabel('Количество соседей')\n",
    "plt.ylabel('Точность')\n",
    "plt.title('Зависимость точности от учитывания весов')\n",
    "plt.savefig('k-weights(5).pdf')"
   ],
   "metadata": {
    "collapsed": false,
    "pycharm": {
     "name": "#%%\n"
    }
   }
  },
  {
   "cell_type": "markdown",
   "source": [
    "Тест №4. Применить алгоритм к данным. Сделать матрицу ошибок. Проанализировать черты ошибок."
   ],
   "metadata": {
    "collapsed": false
   }
  },
  {
   "cell_type": "code",
   "execution_count": 65,
   "outputs": [],
   "source": [
    "knn = KNNClassifier(k=4, strategy='brute',metric='cosine',weights=True,test_block_size=2000)\n",
    "knn.fit(X_train, y_train)\n",
    "pred = knn.predict(X_test)"
   ],
   "metadata": {
    "collapsed": false,
    "pycharm": {
     "name": "#%%\n"
    }
   }
  },
  {
   "cell_type": "code",
   "execution_count": 66,
   "outputs": [
    {
     "data": {
      "text/plain": "0.9752"
     },
     "execution_count": 66,
     "metadata": {},
     "output_type": "execute_result"
    }
   ],
   "source": [
    "acc = np.sum(pred == y_test) / np.size(y_test, 0)\n",
    "acc"
   ],
   "metadata": {
    "collapsed": false,
    "pycharm": {
     "name": "#%%\n"
    }
   }
  },
  {
   "cell_type": "code",
   "execution_count": 26,
   "outputs": [],
   "source": [
    "from sklearn.metrics import confusion_matrix\n",
    "\n",
    "# функция взята с сайта https://www.kaggle.com/grfiv4/plot-a-confusion-matrix\n",
    "def plot_confusion_matrix(cm,\n",
    "                          target_names,\n",
    "                          title='Confusion matrix',\n",
    "                          cmap=None,\n",
    "                          normalize=True,\n",
    "                          save_name=False):\n",
    "    \"\"\"\n",
    "    given a sklearn confusion matrix (cm), make a nice plot\n",
    "\n",
    "    Arguments\n",
    "    ---------\n",
    "    cm:           confusion matrix from sklearn.metrics.confusion_matrix\n",
    "\n",
    "    target_names: given classification classes such as [0, 1, 2]\n",
    "                  the class names, for example: ['high', 'medium', 'low']\n",
    "\n",
    "    title:        the text to display at the top of the matrix\n",
    "\n",
    "    cmap:         the gradient of the values displayed from matplotlib.pyplot.cm\n",
    "                  see http://matplotlib.org/examples/color/colormaps_reference.html\n",
    "                  plt.get_cmap('jet') or plt.cm.Blues\n",
    "\n",
    "    normalize:    If False, plot the raw numbers\n",
    "                  If True, plot the proportions\n",
    "\n",
    "    Usage\n",
    "    -----\n",
    "    plot_confusion_matrix(cm           = cm,                  # confusion matrix created by\n",
    "                                                              # sklearn.metrics.confusion_matrix\n",
    "                          normalize    = True,                # show proportions\n",
    "                          target_names = y_labels_vals,       # list of names of the classes\n",
    "                          title        = best_estimator_name) # title of graph\n",
    "\n",
    "    Citiation\n",
    "    ---------\n",
    "    http://scikit-learn.org/stable/auto_examples/model_selection/plot_confusion_matrix.html\n",
    "    :param save_name: name for your file\n",
    "\n",
    "    \"\"\"\n",
    "    import matplotlib.pyplot as plt\n",
    "    import numpy as np\n",
    "    import itertools\n",
    "\n",
    "    accuracy = np.trace(cm) / float(np.sum(cm))\n",
    "    misclass = 1 - accuracy\n",
    "\n",
    "    if cmap is None:\n",
    "        cmap = plt.get_cmap('Blues')\n",
    "\n",
    "    plt.figure(figsize=(8, 6))\n",
    "    plt.imshow(cm, interpolation='nearest', cmap=cmap)\n",
    "    plt.title(title)\n",
    "    plt.colorbar()\n",
    "\n",
    "    if target_names is not None:\n",
    "        tick_marks = np.arange(len(target_names))\n",
    "        plt.xticks(tick_marks, target_names, rotation=45)\n",
    "        plt.yticks(tick_marks, target_names)\n",
    "\n",
    "    if normalize:\n",
    "        cm = cm.astype('float') / cm.sum(axis=1)[:, np.newaxis]\n",
    "\n",
    "\n",
    "    thresh = cm.max() / 1.5 if normalize else cm.max() / 2\n",
    "    for i, j in itertools.product(range(cm.shape[0]), range(cm.shape[1])):\n",
    "        if normalize:\n",
    "            plt.text(j, i, \"{:0.4f}\".format(cm[i, j]),\n",
    "                     horizontalalignment=\"center\",\n",
    "                     color=\"white\" if cm[i, j] > thresh else \"black\")\n",
    "        else:\n",
    "            plt.text(j, i, \"{:,}\".format(cm[i, j]),\n",
    "                     horizontalalignment=\"center\",\n",
    "                     color=\"white\" if cm[i, j] > thresh else \"black\")\n",
    "\n",
    "\n",
    "    plt.tight_layout()\n",
    "    plt.ylabel('True label')\n",
    "    plt.xlabel('Predicted label\\naccuracy={:0.4f}; misclass={:0.4f}'.format(accuracy, misclass))\n",
    "    plt.savefig(save_name, format='pdf', bbox_inches='tight')\n",
    "    plt.show()\n",
    "# функция взята с сайта https://www.kaggle.com/grfiv4/plot-a-confusion-matrix\n",
    "\n",
    "#cm = confusion_matrix(y_test, pred)\n",
    "#pl = plot_confusion_matrix(cm, normalize = False, target_names = np.unique(y_test),\n",
    "#                      title = \"Confusion Matrix\", save_name='Confusion Matrix1.pdf')"
   ],
   "metadata": {
    "collapsed": false,
    "pycharm": {
     "name": "#%%\n"
    }
   }
  },
  {
   "cell_type": "code",
   "execution_count": 84,
   "outputs": [
    {
     "data": {
      "text/plain": "<Figure size 432x288 with 9 Axes>",
      "image/png": "[encoded data removed]"
     },
     "metadata": {
      "needs_background": "light"
     },
     "output_type": "display_data"
    }
   ],
   "source": [
    "y_ind = np.arange(10000)\n",
    "i_arr = np.arange(10)\n",
    "i = 0\n",
    "test = y_test != i\n",
    "y_pred = pred == i\n",
    "curr = test * y_pred\n",
    "i_rec = y_ind[curr]\n",
    "z = np.arange(np.size(i_rec))\n",
    "np.random.shuffle(z)\n",
    "i_rec_9 = i_rec[z[:10]]\n",
    "fig = plt.figure()\n",
    "for j in range(1, 10):\n",
    "    ax = fig.add_subplot(3, 3, j)\n",
    "    plt.imshow(X_test[i_rec_9[j]].reshape(28, 28), cmap=\"Greys\")\n",
    "    plt.axis('off')\n",
    "fig.suptitle('predicted as 0')\n",
    "plt.savefig('img0.pdf')"
   ],
   "metadata": {
    "collapsed": false,
    "pycharm": {
     "name": "#%%\n"
    }
   }
  },
  {
   "cell_type": "markdown",
   "source": [
    "Тест №5. Размножение обучаемой выборки с помощью поворотов, смещений и применением гауссокого фильтра."
   ],
   "metadata": {
    "collapsed": false
   }
  },
  {
   "cell_type": "markdown",
   "source": [
    "5.1 Величина поворота"
   ],
   "metadata": {
    "collapsed": false
   }
  },
  {
   "cell_type": "code",
   "execution_count": 18,
   "outputs": [],
   "source": [
    "def my_rotate(arr, angle):\n",
    "    return rotate(arr.reshape(28, 28), angle=angle, reshape=False).reshape(784)\n",
    "cv = kfold(X_train.shape[0])"
   ],
   "metadata": {
    "collapsed": false,
    "pycharm": {
     "name": "#%%\n"
    }
   }
  },
  {
   "cell_type": "code",
   "execution_count": 32,
   "outputs": [],
   "source": [
    "rotations = [-5,5,-10,10,-15,15]\n",
    "\n",
    "cross_val_rotations = np.empty((len(rotations), len(cv)), dtype=float)\n",
    "for rotation_num, rotation in enumerate(rotations):\n",
    "    for split_num, split in enumerate(cv):\n",
    "        my_own = KNNClassifier(k=4, strategy='brute',metric='cosine',weights=True,test_block_size=1000)\n",
    "        my_own.fit(X_train[split[0]], y_train[split[0]])\n",
    "        kneighbors = my_own.find_kneighbors(X_train[split[1]], True)\n",
    "\n",
    "        my_own = KNNClassifier(k=4, strategy='brute',metric='cosine',weights=True,test_block_size=1000)\n",
    "        X_train_rotated = np.apply_along_axis(func1d=my_rotate, axis=1, arr=X_train[split[0]], angle=rotation)\n",
    "        my_own.fit(X_train_rotated, y_train[split[0]])\n",
    "        kneighbors_last = my_own.find_kneighbors(X_train[split[1]], True)\n",
    "        kneighbors = (np.hstack((kneighbors[0], kneighbors_last[0])),\n",
    "                      np.hstack((kneighbors[1], kneighbors_last[1])))\n",
    "        nearest_neighbors_pos = np.argpartition(kneighbors[0], np.arange(my_own.k), axis=1)[:, :my_own.k]\n",
    "        indices = np.where((nearest_neighbors_pos == nearest_neighbors_pos))\n",
    "        indices = (indices[0], nearest_neighbors_pos.ravel())\n",
    "        distances = kneighbors[0][indices].reshape(-1, my_own.k)\n",
    "        indices = kneighbors[1][indices].reshape(-1, my_own.k)\n",
    "        y_predicted = knn_cross_val_predict(knn_classifier=my_own,\n",
    "                                        num_of_classes=10,\n",
    "                                        kneighbors=(distances, indices))\n",
    "        cross_val_rotations[rotation_num][split_num] = np.mean(y_predicted == y_train[split[1]])"
   ],
   "metadata": {
    "collapsed": false,
    "pycharm": {
     "name": "#%%\n"
    }
   }
  },
  {
   "cell_type": "code",
   "execution_count": 33,
   "outputs": [
    {
     "name": "stdout",
     "output_type": "stream",
     "text": [
      "[[0.9761  0.97335 0.97395]\n",
      " [0.9767  0.97425 0.9747 ]\n",
      " [0.97735 0.9744  0.97485]\n",
      " [0.97735 0.9755  0.976  ]\n",
      " [0.9764  0.97305 0.9729 ]\n",
      " [0.97655 0.9756  0.97535]]\n"
     ]
    },
    {
     "data": {
      "text/plain": "10"
     },
     "execution_count": 33,
     "metadata": {},
     "output_type": "execute_result"
    }
   ],
   "source": [
    "print(cross_val_rotations)\n",
    "best_rotation = rotations[np.argmax(np.mean(cross_val_rotations, axis=1))]\n",
    "best_rotation"
   ],
   "metadata": {
    "collapsed": false,
    "pycharm": {
     "name": "#%%\n"
    }
   }
  },
  {
   "cell_type": "markdown",
   "source": [
    "5.2. Сдвиги"
   ],
   "metadata": {
    "collapsed": false
   }
  },
  {
   "cell_type": "code",
   "execution_count": 68,
   "outputs": [],
   "source": [
    "def my_shift(arr, shift):\n",
    "    #return interpolation.shift(arr.reshape((28, 28)), shift=shift).ravel()[:784].reshape(784)\n",
    "    return interpolation.shift(arr.reshape((28, 28)), shift=shift).reshape(784)"
   ],
   "metadata": {
    "collapsed": false,
    "pycharm": {
     "name": "#%%\n"
    }
   }
  },
  {
   "cell_type": "code",
   "execution_count": 39,
   "outputs": [],
   "source": [
    "directions = np.array([[1, 0], [0, 1], [-1, 0], [0, -1]])\n",
    "shift_amount = np.arange(3) + 1\n",
    "shifts = (directions * shift_amount[:, np.newaxis, np.newaxis]).ravel().reshape(-1, 2)\n",
    "\n",
    "cross_val_shifts = np.empty((len(shifts), len(cv)), dtype=float)\n",
    "for shift_num, shift in enumerate(shifts):\n",
    "    for split_num, split in enumerate(cv):\n",
    "        my_own = KNNClassifier(k=4, strategy='brute',metric='cosine',weights=True,test_block_size=2000)\n",
    "        my_own.fit(X_train[split[0]], y_train[split[0]])\n",
    "        kneighbors = my_own.find_kneighbors(X_train[split[1]], True)\n",
    "\n",
    "        my_own = KNNClassifier(k=4, strategy='brute',metric='cosine',weights=True,test_block_size=2000)\n",
    "        X_train_shifted = np.apply_along_axis(func1d=my_shift, axis=1, arr=X_train[split[0]], shift=shift)\n",
    "        my_own.fit(X_train_shifted, y_train[split[0]])\n",
    "        kneighbors_last = my_own.find_kneighbors(X_train[split[1]], True)\n",
    "        kneighbors = (np.hstack((kneighbors[0], kneighbors_last[0])),\n",
    "                      np.hstack((kneighbors[1], kneighbors_last[1])))\n",
    "        nearest_neighbors_pos = np.argpartition(kneighbors[0], np.arange(my_own.k), axis=1)[:, :my_own.k]\n",
    "        indices = np.where((nearest_neighbors_pos == nearest_neighbors_pos))\n",
    "        indices = (indices[0], nearest_neighbors_pos.ravel())\n",
    "        distances = kneighbors[0][indices].reshape(-1, my_own.k)\n",
    "        indices = kneighbors[1][indices].reshape(-1, my_own.k)\n",
    "        y_predicted = knn_cross_val_predict(knn_classifier=my_own,\n",
    "                                        num_of_classes=10,\n",
    "                                        kneighbors=(distances, indices))\n",
    "        cross_val_shifts[shift_num][split_num] = np.mean(y_predicted == y_train[split[1]])\n"
   ],
   "metadata": {
    "collapsed": false,
    "pycharm": {
     "name": "#%%\n"
    }
   }
  },
  {
   "cell_type": "code",
   "execution_count": 40,
   "outputs": [
    {
     "name": "stdout",
     "output_type": "stream",
     "text": [
      "[[0.9768  0.97575 0.9747 ]\n",
      " [0.9778  0.9762  0.9756 ]\n",
      " [0.9768  0.9739  0.9753 ]\n",
      " [0.9764  0.9741  0.9738 ]\n",
      " [0.97675 0.97435 0.97495]\n",
      " [0.97695 0.97415 0.97425]\n",
      " [0.97595 0.97395 0.97365]\n",
      " [0.97615 0.97355 0.97385]\n",
      " [0.97585 0.9738  0.97425]\n",
      " [0.97575 0.9733  0.9736 ]\n",
      " [0.97545 0.9733  0.97395]\n",
      " [0.97555 0.9732  0.97365]]\n"
     ]
    },
    {
     "data": {
      "text/plain": "array([0, 1])"
     },
     "execution_count": 40,
     "metadata": {},
     "output_type": "execute_result"
    }
   ],
   "source": [
    "print(cross_val_shifts)\n",
    "best_shift = shifts[np.argmax(np.mean(cross_val_shifts, axis=1))]\n",
    "best_shift"
   ],
   "metadata": {
    "collapsed": false,
    "pycharm": {
     "name": "#%%\n"
    }
   }
  },
  {
   "cell_type": "markdown",
   "source": [
    "5.3.Сглаживание."
   ],
   "metadata": {
    "collapsed": false
   }
  },
  {
   "cell_type": "code",
   "execution_count": 41,
   "outputs": [],
   "source": [
    "smooths = np.sqrt(np.array([0.5, 1, 1.5]))\n",
    "\n",
    "cross_val_gaussian = np.empty((len(smooths), len(cv)), dtype=float)\n",
    "for smooth_num, smooth in enumerate(smooths):\n",
    "    for split_num, split in enumerate(cv):\n",
    "        my_own = KNNClassifier(k=4, strategy='brute',metric='cosine',weights=True,test_block_size=2000)\n",
    "        my_own.fit(X_train[split[0]], y_train[split[0]])\n",
    "        kneighbors = my_own.find_kneighbors(X_train[split[1]], True)\n",
    "\n",
    "        my_own = KNNClassifier(k=4, strategy='brute',metric='cosine',weights=True,test_block_size=2000)\n",
    "        X_train_smoothed = np.apply_along_axis(func1d=gaussian_filter, axis=1, arr=X_train[split[0]], sigma=smooth)\n",
    "        my_own.fit(X_train_smoothed, y_train[split[0]])\n",
    "        kneighbors_last = my_own.find_kneighbors(X_train[split[1]], True)\n",
    "        kneighbors = (np.hstack((kneighbors[0], kneighbors_last[0])),\n",
    "                      np.hstack((kneighbors[1], kneighbors_last[1])))\n",
    "        nearest_neighbors_pos = np.argpartition(kneighbors[0], np.arange(my_own.k), axis=1)[:, :my_own.k]\n",
    "        indices = np.where((nearest_neighbors_pos == nearest_neighbors_pos))\n",
    "        indices = (indices[0], nearest_neighbors_pos.ravel())\n",
    "        distances = kneighbors[0][indices].reshape(-1, my_own.k)\n",
    "        indices = kneighbors[1][indices].reshape(-1, my_own.k)\n",
    "        y_predicted = knn_cross_val_predict(knn_classifier=my_own,\n",
    "                                        num_of_classes=10,\n",
    "                                        kneighbors=(distances, indices))\n",
    "        cross_val_gaussian[smooth_num][split_num] = np.mean(y_predicted == y_train[split[1]])"
   ],
   "metadata": {
    "collapsed": false,
    "pycharm": {
     "name": "#%%\n"
    }
   }
  },
  {
   "cell_type": "code",
   "execution_count": 42,
   "outputs": [
    {
     "name": "stdout",
     "output_type": "stream",
     "text": [
      "[[0.9754  0.9732  0.9727 ]\n",
      " [0.9761  0.9737  0.97405]\n",
      " [0.97635 0.97375 0.9744 ]]\n"
     ]
    },
    {
     "data": {
      "text/plain": "1.224744871391589"
     },
     "execution_count": 42,
     "metadata": {},
     "output_type": "execute_result"
    }
   ],
   "source": [
    "print(cross_val_gaussian)\n",
    "best_smooth = smooths[np.argmax(np.mean(cross_val_gaussian, axis=1))]\n",
    "best_smooth"
   ],
   "metadata": {
    "collapsed": false,
    "pycharm": {
     "name": "#%%\n"
    }
   }
  },
  {
   "cell_type": "markdown",
   "source": [
    "Рассмотрим наилучшие значения по каждому изменению"
   ],
   "metadata": {
    "collapsed": false
   }
  },
  {
   "cell_type": "code",
   "execution_count": 23,
   "outputs": [],
   "source": [
    "best_rotation = 10\n",
    "best_smooth = 1.5 ** 0.5\n",
    "best_shift = np.array([0, 1])"
   ],
   "metadata": {
    "collapsed": false,
    "pycharm": {
     "name": "#%%\n"
    }
   }
  },
  {
   "cell_type": "code",
   "execution_count": 30,
   "outputs": [],
   "source": [
    "my_own = KNNClassifier(k=4, strategy='brute',metric='cosine',weights=True,test_block_size=2000)\n",
    "my_own.fit(X_train, y_train)\n",
    "kneighbors = my_own.find_kneighbors(X_test, True)\n",
    "\n",
    "my_own = KNNClassifier(k=4, strategy='brute',metric='cosine',weights=True,test_block_size=2000)\n",
    "X_train_shifted = np.apply_along_axis(func1d=my_rotate, axis=1, arr=X_train, angle=10)\n",
    "my_own.fit(X_train_shifted, y_train)\n",
    "kneighbors_last = my_own.find_kneighbors(X_test, True)\n",
    "kneighbors = (np.hstack((kneighbors[0], kneighbors_last[0])),\n",
    "              np.hstack((kneighbors[1], kneighbors_last[1])))\n",
    "\n",
    "nearest_neighbors_pos = np.argpartition(kneighbors[0], np.arange(my_own.k), axis=1)[:, :my_own.k]\n",
    "indices = np.where((nearest_neighbors_pos == nearest_neighbors_pos))\n",
    "indices = (indices[0], nearest_neighbors_pos.ravel())\n",
    "distances = kneighbors[0][indices].reshape(-1, my_own.k)\n",
    "indices = kneighbors[1][indices].reshape(-1, my_own.k)\n",
    "y_predicted = knn_cross_val_predict(knn_classifier=my_own,\n",
    "                                    num_of_classes=10,\n",
    "                                    kneighbors=(distances, indices))\n",
    "accuracy = np.mean(y_predicted == y_test)"
   ],
   "metadata": {
    "collapsed": false,
    "pycharm": {
     "name": "#%%\n"
    }
   }
  },
  {
   "cell_type": "code",
   "execution_count": 31,
   "outputs": [
    {
     "data": {
      "text/plain": "<Figure size 576x432 with 2 Axes>",
      "image/png": "[encoded data removed]"
     },
     "metadata": {
      "needs_background": "light"
     },
     "output_type": "display_data"
    }
   ],
   "source": [
    "cm = confusion_matrix(y_test, y_predicted)\n",
    "pl = plot_confusion_matrix(cm, normalize = False, target_names = np.unique(y_test),\n",
    "                      title = \"Confusion Matrix Rotation 10\", save_name='Confusion Matrix Rotation.pdf')"
   ],
   "metadata": {
    "collapsed": false,
    "pycharm": {
     "name": "#%%\n"
    }
   }
  },
  {
   "cell_type": "code",
   "execution_count": null,
   "outputs": [],
   "source": [],
   "metadata": {
    "collapsed": false,
    "pycharm": {
     "name": "#%%\n"
    }
   }
  },
  {
   "cell_type": "markdown",
   "source": [
    "Тест №6. Применим подходы обработки на тестовую выборку"
   ],
   "metadata": {
    "collapsed": false
   }
  },
  {
   "cell_type": "markdown",
   "source": [
    "6.1. Величина поворота"
   ],
   "metadata": {
    "collapsed": false
   }
  },
  {
   "cell_type": "code",
   "execution_count": 71,
   "outputs": [],
   "source": [
    "rotations = [5, -5, 10, -10, 15, -15]\n",
    "\n",
    "cross_val_rotations = np.empty((len(rotations), len(cv)), dtype=float)\n",
    "for rotation_num, rotation in enumerate(rotations):\n",
    "    for split_num, split in enumerate(cv):\n",
    "        my_own = KNNClassifier(k=4, strategy='brute',metric='cosine',weights=True,test_block_size=2000)\n",
    "        my_own.fit(X_train[split[0]], y_train[split[0]])\n",
    "        kneighbors = my_own.find_kneighbors(X_train[split[1]], True)\n",
    "\n",
    "        kneighbors_last = my_own.find_kneighbors(np.apply_along_axis(func1d=my_rotate,\n",
    "                                                                     axis=1,\n",
    "                                                                     arr=X_train[split[1]],\n",
    "                                                                     angle=rotation), True)\n",
    "        kneighbors = (np.hstack((kneighbors[0], kneighbors_last[0])),\n",
    "                      np.hstack((kneighbors[1], kneighbors_last[1])))\n",
    "        nearest_neighbors_pos = np.argpartition(kneighbors[0], np.arange(my_own.k), axis=1)[:, :my_own.k]\n",
    "        indices = np.where((nearest_neighbors_pos == nearest_neighbors_pos))\n",
    "        indices = (indices[0], nearest_neighbors_pos.ravel())\n",
    "        distances = kneighbors[0][indices].reshape(-1, my_own.k)\n",
    "        indices = kneighbors[1][indices].reshape(-1, my_own.k)\n",
    "        y_predicted = knn_cross_val_predict(knn_classifier=my_own,\n",
    "                                            num_of_classes=10,\n",
    "                                            kneighbors=(distances, indices))\n",
    "        cross_val_rotations[rotation_num][split_num] = np.mean(y_predicted == y_train[split[1]])"
   ],
   "metadata": {
    "collapsed": false,
    "pycharm": {
     "name": "#%%\n"
    }
   }
  },
  {
   "cell_type": "markdown",
   "source": [
    "6.2 Сдвиги"
   ],
   "metadata": {
    "collapsed": false
   }
  },
  {
   "cell_type": "code",
   "execution_count": 73,
   "outputs": [],
   "source": [
    "directions = np.array([[1, 0], [0, 1], [-1, 0], [0, -1]])\n",
    "shift_amount = np.arange(3) + 1\n",
    "shifts = (directions * shift_amount[:, np.newaxis, np.newaxis]).ravel().reshape(-1, 2)\n",
    "cross_val_shifts = np.empty((len(shifts), len(cv)), dtype=float)\n",
    "for shift_num, shift in enumerate(shifts):\n",
    "    for split_num, split in enumerate(cv):\n",
    "        my_own = KNNClassifier(k=4, strategy='brute',metric='cosine',weights=True,test_block_size=2000)\n",
    "        my_own.fit(X_train[split[0]], y_train[split[0]])\n",
    "        kneighbors = my_own.find_kneighbors(X_train[split[1]], True)\n",
    "\n",
    "        kneighbors_last = my_own.find_kneighbors(np.apply_along_axis(func1d=my_shift,\n",
    "                                                                     axis=1,\n",
    "                                                                     arr=X_train[split[1]],\n",
    "                                                                     shift=shift), True)\n",
    "        kneighbors = (np.hstack((kneighbors[0], kneighbors_last[0])),\n",
    "                      np.hstack((kneighbors[1], kneighbors_last[1])))\n",
    "        nearest_neighbors_pos = np.argpartition(kneighbors[0], np.arange(my_own.k), axis=1)[:, :my_own.k]\n",
    "        indices = np.where((nearest_neighbors_pos == nearest_neighbors_pos))\n",
    "        indices = (indices[0], nearest_neighbors_pos.ravel())\n",
    "        distances = kneighbors[0][indices].reshape(-1, my_own.k)\n",
    "        indices = kneighbors[1][indices].reshape(-1, my_own.k)\n",
    "        y_predicted = knn_cross_val_predict(knn_classifier=my_own,\n",
    "                                                         num_of_classes=10,\n",
    "                                                         kneighbors=(distances, indices))\n",
    "        cross_val_shifts[shift_num][split_num] = np.mean(y_predicted == y_train[split[1]])"
   ],
   "metadata": {
    "collapsed": false,
    "pycharm": {
     "name": "#%%\n"
    }
   }
  },
  {
   "cell_type": "markdown",
   "source": [],
   "metadata": {
    "collapsed": false
   }
  },
  {
   "cell_type": "code",
   "execution_count": 74,
   "outputs": [],
   "source": [
    "\n",
    "smooths = np.sqrt(np.array([0.5, 1, 1.5]))\n",
    "\n",
    "\n",
    "cross_val_gaussian = np.empty((len(smooths), len(cv)), dtype=float)\n",
    "for smooth_num, smooth in enumerate(smooths):\n",
    "    for split_num, split in enumerate(cv):\n",
    "        my_own = KNNClassifier(k=4, strategy='brute',metric='cosine',weights=True,test_block_size=2000)\n",
    "        my_own.fit(X_train[split[0]], y_train[split[0]])\n",
    "        kneighbors = my_own.find_kneighbors(X_train[split[1]], True)\n",
    "\n",
    "        kneighbors_last = my_own.find_kneighbors(np.apply_along_axis(func1d=gaussian_filter,\n",
    "                                                                     axis=1,\n",
    "                                                                     arr=X_train[split[1]],\n",
    "                                                                     sigma=smooth), True)\n",
    "        kneighbors = (np.hstack((kneighbors[0], kneighbors_last[0])),\n",
    "                      np.hstack((kneighbors[1], kneighbors_last[1])))\n",
    "        nearest_neighbors_pos = np.argpartition(kneighbors[0], np.arange(my_own.k), axis=1)[:, :my_own.k]\n",
    "        indices = np.where((nearest_neighbors_pos == nearest_neighbors_pos))\n",
    "        indices = (indices[0], nearest_neighbors_pos.ravel())\n",
    "        distances = kneighbors[0][indices].reshape(-1, my_own.k)\n",
    "        indices = kneighbors[1][indices].reshape(-1, my_own.k)\n",
    "        y_predicted = knn_cross_val_predict(knn_classifier=my_own,\n",
    "                                            num_of_classes=10,\n",
    "                                            kneighbors=(distances, indices))\n",
    "        cross_val_gaussian[smooth_num][split_num] = np.mean(y_predicted == y_train[split[1]])"
   ],
   "metadata": {
    "collapsed": false,
    "pycharm": {
     "name": "#%%\n"
    }
   }
  },
  {
   "cell_type": "code",
   "execution_count": 75,
   "outputs": [
    {
     "data": {
      "text/plain": "array([[0.97545, 0.97325, 0.97365],\n       [0.9755 , 0.9732 , 0.97365],\n       [0.97545, 0.9732 , 0.97365],\n       [0.97545, 0.9732 , 0.97365],\n       [0.97545, 0.9732 , 0.97365],\n       [0.97545, 0.9732 , 0.97365]])"
     },
     "execution_count": 75,
     "metadata": {},
     "output_type": "execute_result"
    }
   ],
   "source": [
    "cross_val_rotations"
   ],
   "metadata": {
    "collapsed": false,
    "pycharm": {
     "name": "#%%\n"
    }
   }
  },
  {
   "cell_type": "code",
   "execution_count": 76,
   "outputs": [
    {
     "data": {
      "text/plain": "array([[0.9768 , 0.9739 , 0.9753 ],\n       [0.9764 , 0.9741 , 0.9738 ],\n       [0.9768 , 0.97575, 0.9747 ],\n       [0.9778 , 0.9762 , 0.9756 ],\n       [0.97595, 0.97395, 0.97365],\n       [0.97615, 0.97355, 0.97385],\n       [0.97675, 0.97445, 0.975  ],\n       [0.97695, 0.97415, 0.97425],\n       [0.9755 , 0.97325, 0.97395],\n       [0.97555, 0.9732 , 0.97365],\n       [0.97585, 0.9737 , 0.97415],\n       [0.97575, 0.9733 , 0.9736 ]])"
     },
     "execution_count": 76,
     "metadata": {},
     "output_type": "execute_result"
    }
   ],
   "source": [
    "cross_val_shifts\n"
   ],
   "metadata": {
    "collapsed": false,
    "pycharm": {
     "name": "#%%\n"
    }
   }
  },
  {
   "cell_type": "code",
   "execution_count": 77,
   "outputs": [
    {
     "data": {
      "text/plain": "array([[0.975  , 0.9718 , 0.9716 ],\n       [0.97365, 0.97   , 0.96985],\n       [0.9709 , 0.9675 , 0.9672 ]])"
     },
     "execution_count": 77,
     "metadata": {},
     "output_type": "execute_result"
    }
   ],
   "source": [
    "cross_val_gaussian"
   ],
   "metadata": {
    "collapsed": false,
    "pycharm": {
     "name": "#%%\n"
    }
   }
  },
  {
   "cell_type": "code",
   "execution_count": 78,
   "outputs": [],
   "source": [
    "best_smooth = smooths[np.argmax(np.mean(cross_val_gaussian, axis=1))]\n",
    "best_rotation = rotations[np.argmax(np.mean(cross_val_rotations, axis=1))]\n",
    "best_shift = shifts[np.argmax(np.mean(cross_val_shifts, axis=1))]"
   ],
   "metadata": {
    "collapsed": false,
    "pycharm": {
     "name": "#%%\n"
    }
   }
  },
  {
   "cell_type": "code",
   "execution_count": 81,
   "outputs": [
    {
     "data": {
      "text/plain": "0.7071067811865476"
     },
     "execution_count": 81,
     "metadata": {},
     "output_type": "execute_result"
    }
   ],
   "source": [
    "best_smooth"
   ],
   "metadata": {
    "collapsed": false,
    "pycharm": {
     "name": "#%%\n"
    }
   }
  },
  {
   "cell_type": "code",
   "execution_count": 80,
   "outputs": [
    {
     "data": {
      "text/plain": "5"
     },
     "execution_count": 80,
     "metadata": {},
     "output_type": "execute_result"
    }
   ],
   "source": [
    "best_rotation"
   ],
   "metadata": {
    "collapsed": false,
    "pycharm": {
     "name": "#%%\n"
    }
   }
  },
  {
   "cell_type": "code",
   "execution_count": 79,
   "outputs": [
    {
     "data": {
      "text/plain": "array([ 0, -1])"
     },
     "execution_count": 79,
     "metadata": {},
     "output_type": "execute_result"
    }
   ],
   "source": [
    "best_shift"
   ],
   "metadata": {
    "collapsed": false,
    "pycharm": {
     "name": "#%%\n"
    }
   }
  },
  {
   "cell_type": "code",
   "execution_count": 40,
   "outputs": [],
   "source": [
    "my_own = KNNClassifier(k=4, strategy='brute',metric='cosine',weights=True,test_block_size=2000)\n",
    "my_own.fit(X_train, y_train)\n",
    "kneighbors = my_own.find_kneighbors(X_test, True)\n",
    "for rot in smooths:\n",
    "    kneighbors_last = my_own.find_kneighbors(np.apply_along_axis(func1d=gaussian_filter,\n",
    "                                                                 axis=1,\n",
    "                                                                 arr=X_test,\n",
    "                                                                 sigma=rot), True)\n",
    "    kneighbors = (np.hstack((kneighbors[0], kneighbors_last[0])),\n",
    "                  np.hstack((kneighbors[1], kneighbors_last[1])))\n",
    "\n",
    "nearest_neighbors_pos = np.argpartition(kneighbors[0], np.arange(my_own.k), axis=1)[:, :my_own.k]\n",
    "indices = np.where((nearest_neighbors_pos == nearest_neighbors_pos))\n",
    "indices = (indices[0], nearest_neighbors_pos.ravel())\n",
    "distances = kneighbors[0][indices].reshape(-1, my_own.k)\n",
    "indices = kneighbors[1][indices].reshape(-1, my_own.k)\n",
    "y_predicted = knn_cross_val_predict(knn_classifier=my_own,\n",
    "                                    num_of_classes=10,\n",
    "                                    kneighbors=(distances, indices))\n",
    "final_accuracy_1 = np.mean(y_predicted == y_test)"
   ],
   "metadata": {
    "collapsed": false,
    "pycharm": {
     "name": "#%%\n"
    }
   }
  },
  {
   "cell_type": "code",
   "execution_count": 41,
   "outputs": [
    {
     "data": {
      "text/plain": "<Figure size 576x432 with 2 Axes>",
      "image/png": "[encoded data removed]"
     },
     "metadata": {
      "needs_background": "light"
     },
     "output_type": "display_data"
    }
   ],
   "source": [
    "cm = confusion_matrix(y_test, y_predicted)\n",
    "pl = plot_confusion_matrix(cm, normalize = False, target_names = np.unique(y_test),\n",
    "                      title = \"Test Smooth\", save_name='Confusion Matrix Smooth(Test).pdf')\n"
   ],
   "metadata": {
    "collapsed": false,
    "pycharm": {
     "name": "#%%\n"
    }
   }
  }
 ],
 "metadata": {
  "kernelspec": {
   "display_name": "Python 3",
   "language": "python",
   "name": "python3"
  },
  "language_info": {
   "codemirror_mode": {
    "name": "ipython",
    "version": 2
   },
   "file_extension": ".py",
   "mimetype": "text/x-python",
   "name": "python",
   "nbconvert_exporter": "python",
   "pygments_lexer": "ipython2",
   "version": "2.7.6"
  }
 },
 "nbformat": 4,
 "nbformat_minor": 0
}